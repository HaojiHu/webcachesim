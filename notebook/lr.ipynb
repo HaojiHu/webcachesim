{
 "cells": [
  {
   "cell_type": "code",
   "execution_count": 55,
   "metadata": {},
   "outputs": [],
   "source": [
    "import pandas as pd\n",
    "import lightgbm as lgb\n",
    "import numpy as np\n",
    "import random\n",
    "from sklearn.linear_model import LinearRegression\n",
    "\n",
    "import matplotlib.pyplot as plt\n",
    "\n",
    "%matplotlib inline"
   ]
  },
  {
   "cell_type": "code",
   "execution_count": 56,
   "metadata": {},
   "outputs": [
    {
     "name": "stdout",
     "output_type": "stream",
     "text": [
      "archieve\t\t\t      __pycache__\n",
      "common.py\t\t\t      README.md\n",
      "db_op.ipynb\t\t\t      snapshot_distribution.ipynb\n",
      "distribution.ipynb\t\t      snapshot_distribution_long_term.ipynb\n",
      "evaluation-wiki.ipynb\t\t      snapshot.ipynb\n",
      "gbdt.ipynb\t\t\t      snapshot-key.ipynb\n",
      "interactive_plot_example-Copy1.ipynb  tmp.csv\n",
      "long_term_feature.ipynb\t\t      tmp.ipynb\n",
      "lr.ipynb\t\t\t      Untitled.ipynb\n"
     ]
    }
   ],
   "source": [
    "! ls ../"
   ]
  },
  {
   "cell_type": "code",
   "execution_count": 83,
   "metadata": {},
   "outputs": [],
   "source": [
    "max_n_past_timestamps = 64"
   ]
  },
  {
   "cell_type": "code",
   "execution_count": 192,
   "metadata": {},
   "outputs": [],
   "source": [
    "fields = ['f', 'i0'] + [f'd{i}' for i in range(1, max_n_past_timestamps)]\n",
    "x_fields = ['i0'] + [f'd{i}' for i in range(1, 4)]\n",
    "x_fields = ['i0'] + [f'd{i}' for i in range(1, max_n_past_timestamps)]\n",
    "y_field = ['f']"
   ]
  },
  {
   "cell_type": "code",
   "execution_count": 221,
   "metadata": {},
   "outputs": [],
   "source": [
    "df = pd.read_csv('/data/zhenyus/webcachesim/snapshot_1.log', delimiter=',', names=fields)\n",
    "# df = pd.read_csv('/data/zhenyus/webcachesim/snapshot_0.log', delimiter=',', names=fields)"
   ]
  },
  {
   "cell_type": "code",
   "execution_count": 222,
   "metadata": {},
   "outputs": [
    {
     "data": {
      "text/plain": [
       "2014944"
      ]
     },
     "execution_count": 222,
     "metadata": {},
     "output_type": "execute_result"
    }
   ],
   "source": [
    "len(df)"
   ]
  },
  {
   "cell_type": "code",
   "execution_count": 223,
   "metadata": {},
   "outputs": [],
   "source": [
    "rest = 2014944"
   ]
  },
  {
   "cell_type": "code",
   "execution_count": 235,
   "metadata": {},
   "outputs": [],
   "source": [
    "nc = []\n",
    "for i in [f'd{i}' for i in range(1, max_n_past_timestamps)]:\n",
    "    nc.append(np.sum(pd.isna(df[i])))"
   ]
  },
  {
   "cell_type": "code",
   "execution_count": null,
   "metadata": {},
   "outputs": [],
   "source": []
  },
  {
   "cell_type": "code",
   "execution_count": 236,
   "metadata": {},
   "outputs": [],
   "source": [
    "a = np.array(nc)"
   ]
  },
  {
   "cell_type": "code",
   "execution_count": 246,
   "metadata": {},
   "outputs": [
    {
     "data": {
      "text/plain": [
       "array([0.615, 0.152, 0.069, 0.039, 0.025, 0.017, 0.013, 0.01 , 0.008,\n",
       "       0.006, 0.005, 0.004, 0.003, 0.003, 0.002, 0.002, 0.002, 0.002,\n",
       "       0.002, 0.001, 0.001, 0.001, 0.001, 0.001, 0.001, 0.001, 0.001,\n",
       "       0.001, 0.001, 0.001, 0.001, 0.   , 0.   , 0.   , 0.   , 0.   ,\n",
       "       0.   , 0.   , 0.   , 0.   , 0.   , 0.   , 0.   , 0.   , 0.   ,\n",
       "       0.   , 0.   , 0.   , 0.   , 0.   , 0.   , 0.   , 0.   , 0.   ,\n",
       "       0.   , 0.   , 0.   , 0.   , 0.   , 0.   , 0.   , 0.   , 0.   ])"
      ]
     },
     "execution_count": 246,
     "metadata": {},
     "output_type": "execute_result"
    }
   ],
   "source": [
    "(a/2014944).round(3)"
   ]
  },
  {
   "cell_type": "code",
   "execution_count": 244,
   "metadata": {},
   "outputs": [
    {
     "data": {
      "text/plain": [
       "array([0.24660979, 0.45372895, 0.56681888, 0.63627455, 0.69212305,\n",
       "       0.73614242, 0.76413317, 0.78709412, 0.79184073, 0.81691534,\n",
       "       0.83067608, 0.83187561, 0.85061332, 0.86145923, 0.8901953 ,\n",
       "       0.87508395, 0.90406754, 0.91482739, 0.87813177, 0.88446636,\n",
       "       0.84468339, 0.96228194, 0.900049  , 0.91344584, 0.9022646 ,\n",
       "       0.92998679, 0.95809659, 0.82876205, 0.94186047, 0.98955366,\n",
       "       0.95009597, 0.86363636, 1.00116959, 0.88317757, 1.02248677,\n",
       "       0.87839586, 0.94108984, 0.94053208, 0.93011647, 0.94812165,\n",
       "       0.88867925, 0.99363057, 1.03632479, 0.94845361, 0.82391304,\n",
       "       1.02638522, 0.95372751, 1.0458221 , 0.84536082, 0.95121951,\n",
       "       0.87820513, 1.09124088, 1.04013378, 0.93890675, 0.90068493,\n",
       "       0.97718631, 0.90272374, 1.02155172, 1.05485232, 0.92      ,\n",
       "       0.92173913, 0.90566038])"
      ]
     },
     "execution_count": 244,
     "metadata": {},
     "output_type": "execute_result"
    }
   ],
   "source": [
    "np.divide(a[1:], a[:-1])"
   ]
  },
  {
   "cell_type": "code",
   "execution_count": 238,
   "metadata": {},
   "outputs": [],
   "source": [
    "a[1:] =  a[1:] - a[:-1]"
   ]
  },
  {
   "cell_type": "code",
   "execution_count": 249,
   "metadata": {},
   "outputs": [
    {
     "data": {
      "text/plain": [
       "Text(0.5, 1.0, 'cdf of object with x timestamp in the window')"
      ]
     },
     "execution_count": 249,
     "metadata": {},
     "output_type": "execute_result"
    },
    {
     "data": {
      "image/png": "[encoded data removed]",
      "text/plain": [
       "<Figure size 432x288 with 1 Axes>"
      ]
     },
     "metadata": {
      "needs_background": "light"
     },
     "output_type": "display_data"
    }
   ],
   "source": [
    "plt.plot(np.cumsum(a/2014944))\n",
    "plt.title('cdf of object with x timestamp in the window')"
   ]
  },
  {
   "cell_type": "code",
   "execution_count": 251,
   "metadata": {},
   "outputs": [
    {
     "data": {
      "text/plain": [
       "array([0.6148, 0.7665, 0.8353, 0.8743, 0.8991, 0.9162, 0.9289, 0.9385,\n",
       "       0.9461, 0.9522, 0.9571, 0.9612, 0.9646, 0.9675, 0.9699, 0.9722,\n",
       "       0.9741, 0.9759, 0.9775, 0.9789, 0.9801, 0.9812, 0.9822, 0.9831,\n",
       "       0.9839, 0.9847, 0.9854, 0.986 , 0.9866, 0.9871, 0.9876, 0.9881,\n",
       "       0.9886, 0.989 , 0.9894, 0.9897, 0.9901, 0.9904, 0.9907, 0.991 ,\n",
       "       0.9912, 0.9915, 0.9917, 0.9919, 0.9922, 0.9924, 0.9925, 0.9927,\n",
       "       0.9929, 0.9931, 0.9932, 0.9934, 0.9935, 0.9937, 0.9938, 0.994 ,\n",
       "       0.9941, 0.9942, 0.9943, 0.9944, 0.9946, 0.9947, 0.9948])"
      ]
     },
     "execution_count": 251,
     "metadata": {},
     "output_type": "execute_result"
    }
   ],
   "source": [
    "np.cumsum(a/2014944).round(4)"
   ]
  },
  {
   "cell_type": "code",
   "execution_count": 241,
   "metadata": {},
   "outputs": [
    {
     "data": {
      "text/plain": [
       "[<matplotlib.lines.Line2D at 0x7fa8c6f7de80>,\n",
       " <matplotlib.lines.Line2D at 0x7fa8c6f7dfd0>]"
      ]
     },
     "execution_count": 241,
     "metadata": {},
     "output_type": "execute_result"
    },
    {
     "data": {
      "image/png": "[encoded data removed]",
      "text/plain": [
       "<Figure size 432x288 with 1 Axes>"
      ]
     },
     "metadata": {
      "needs_background": "light"
     },
     "output_type": "display_data"
    }
   ],
   "source": [
    "plt.plot(0.8, 0.8*0.2, 0.8*0.2*0.2, 0.8*0.2*0.2*0.2)"
   ]
  },
  {
   "cell_type": "code",
   "execution_count": 194,
   "metadata": {},
   "outputs": [],
   "source": [
    "df = df[~pd.isna(df.d1)].reset_index()"
   ]
  },
  {
   "cell_type": "code",
   "execution_count": 195,
   "metadata": {},
   "outputs": [
    {
     "data": {
      "text/html": [
       "<div>\n",
       "<style scoped>\n",
       "    .dataframe tbody tr th:only-of-type {\n",
       "        vertical-align: middle;\n",
       "    }\n",
       "\n",
       "    .dataframe tbody tr th {\n",
       "        vertical-align: top;\n",
       "    }\n",
       "\n",
       "    .dataframe thead th {\n",
       "        text-align: right;\n",
       "    }\n",
       "</style>\n",
       "<table border=\"1\" class=\"dataframe\">\n",
       "  <thead>\n",
       "    <tr style=\"text-align: right;\">\n",
       "      <th></th>\n",
       "      <th>index</th>\n",
       "      <th>f</th>\n",
       "      <th>i0</th>\n",
       "      <th>d1</th>\n",
       "      <th>d2</th>\n",
       "      <th>d3</th>\n",
       "      <th>d4</th>\n",
       "      <th>d5</th>\n",
       "      <th>d6</th>\n",
       "      <th>d7</th>\n",
       "      <th>...</th>\n",
       "      <th>d54</th>\n",
       "      <th>d55</th>\n",
       "      <th>d56</th>\n",
       "      <th>d57</th>\n",
       "      <th>d58</th>\n",
       "      <th>d59</th>\n",
       "      <th>d60</th>\n",
       "      <th>d61</th>\n",
       "      <th>d62</th>\n",
       "      <th>d63</th>\n",
       "    </tr>\n",
       "  </thead>\n",
       "  <tbody>\n",
       "    <tr>\n",
       "      <th>0</th>\n",
       "      <td>0</td>\n",
       "      <td>63.0</td>\n",
       "      <td>1642</td>\n",
       "      <td>391.0</td>\n",
       "      <td>80.0</td>\n",
       "      <td>177.0</td>\n",
       "      <td>477.0</td>\n",
       "      <td>952.0</td>\n",
       "      <td>46.0</td>\n",
       "      <td>918.0</td>\n",
       "      <td>...</td>\n",
       "      <td>46.0</td>\n",
       "      <td>8.0</td>\n",
       "      <td>157.0</td>\n",
       "      <td>73.0</td>\n",
       "      <td>32.0</td>\n",
       "      <td>59.0</td>\n",
       "      <td>205.0</td>\n",
       "      <td>30.0</td>\n",
       "      <td>12.0</td>\n",
       "      <td>57.0</td>\n",
       "    </tr>\n",
       "    <tr>\n",
       "      <th>1</th>\n",
       "      <td>1</td>\n",
       "      <td>127.0</td>\n",
       "      <td>12</td>\n",
       "      <td>73.0</td>\n",
       "      <td>488.0</td>\n",
       "      <td>30.0</td>\n",
       "      <td>277.0</td>\n",
       "      <td>284.0</td>\n",
       "      <td>129.0</td>\n",
       "      <td>2.0</td>\n",
       "      <td>...</td>\n",
       "      <td>29.0</td>\n",
       "      <td>32.0</td>\n",
       "      <td>26.0</td>\n",
       "      <td>78.0</td>\n",
       "      <td>24.0</td>\n",
       "      <td>32.0</td>\n",
       "      <td>65.0</td>\n",
       "      <td>73.0</td>\n",
       "      <td>39.0</td>\n",
       "      <td>9.0</td>\n",
       "    </tr>\n",
       "    <tr>\n",
       "      <th>2</th>\n",
       "      <td>2</td>\n",
       "      <td>230285.0</td>\n",
       "      <td>226052</td>\n",
       "      <td>3125643.0</td>\n",
       "      <td>302490.0</td>\n",
       "      <td>99125.0</td>\n",
       "      <td>1803092.0</td>\n",
       "      <td>434359.0</td>\n",
       "      <td>27183.0</td>\n",
       "      <td>3421939.0</td>\n",
       "      <td>...</td>\n",
       "      <td>NaN</td>\n",
       "      <td>NaN</td>\n",
       "      <td>NaN</td>\n",
       "      <td>NaN</td>\n",
       "      <td>NaN</td>\n",
       "      <td>NaN</td>\n",
       "      <td>NaN</td>\n",
       "      <td>NaN</td>\n",
       "      <td>NaN</td>\n",
       "      <td>NaN</td>\n",
       "    </tr>\n",
       "    <tr>\n",
       "      <th>3</th>\n",
       "      <td>3</td>\n",
       "      <td>463297.0</td>\n",
       "      <td>2518097</td>\n",
       "      <td>207307.0</td>\n",
       "      <td>3180402.0</td>\n",
       "      <td>1716617.0</td>\n",
       "      <td>704867.0</td>\n",
       "      <td>349071.0</td>\n",
       "      <td>1171630.0</td>\n",
       "      <td>152005.0</td>\n",
       "      <td>...</td>\n",
       "      <td>NaN</td>\n",
       "      <td>NaN</td>\n",
       "      <td>NaN</td>\n",
       "      <td>NaN</td>\n",
       "      <td>NaN</td>\n",
       "      <td>NaN</td>\n",
       "      <td>NaN</td>\n",
       "      <td>NaN</td>\n",
       "      <td>NaN</td>\n",
       "      <td>NaN</td>\n",
       "    </tr>\n",
       "    <tr>\n",
       "      <th>4</th>\n",
       "      <td>4</td>\n",
       "      <td>5666753.0</td>\n",
       "      <td>6059571</td>\n",
       "      <td>3940424.0</td>\n",
       "      <td>NaN</td>\n",
       "      <td>NaN</td>\n",
       "      <td>NaN</td>\n",
       "      <td>NaN</td>\n",
       "      <td>NaN</td>\n",
       "      <td>NaN</td>\n",
       "      <td>...</td>\n",
       "      <td>NaN</td>\n",
       "      <td>NaN</td>\n",
       "      <td>NaN</td>\n",
       "      <td>NaN</td>\n",
       "      <td>NaN</td>\n",
       "      <td>NaN</td>\n",
       "      <td>NaN</td>\n",
       "      <td>NaN</td>\n",
       "      <td>NaN</td>\n",
       "      <td>NaN</td>\n",
       "    </tr>\n",
       "  </tbody>\n",
       "</table>\n",
       "<p>5 rows × 66 columns</p>\n",
       "</div>"
      ],
      "text/plain": [
       "   index          f       i0         d1         d2         d3         d4  \\\n",
       "0      0       63.0     1642      391.0       80.0      177.0      477.0   \n",
       "1      1      127.0       12       73.0      488.0       30.0      277.0   \n",
       "2      2   230285.0   226052  3125643.0   302490.0    99125.0  1803092.0   \n",
       "3      3   463297.0  2518097   207307.0  3180402.0  1716617.0   704867.0   \n",
       "4      4  5666753.0  6059571  3940424.0        NaN        NaN        NaN   \n",
       "\n",
       "         d5         d6         d7  ...    d54   d55    d56   d57   d58   d59  \\\n",
       "0     952.0       46.0      918.0  ...   46.0   8.0  157.0  73.0  32.0  59.0   \n",
       "1     284.0      129.0        2.0  ...   29.0  32.0   26.0  78.0  24.0  32.0   \n",
       "2  434359.0    27183.0  3421939.0  ...    NaN   NaN    NaN   NaN   NaN   NaN   \n",
       "3  349071.0  1171630.0   152005.0  ...    NaN   NaN    NaN   NaN   NaN   NaN   \n",
       "4       NaN        NaN        NaN  ...    NaN   NaN    NaN   NaN   NaN   NaN   \n",
       "\n",
       "     d60   d61   d62   d63  \n",
       "0  205.0  30.0  12.0  57.0  \n",
       "1   65.0  73.0  39.0   9.0  \n",
       "2    NaN   NaN   NaN   NaN  \n",
       "3    NaN   NaN   NaN   NaN  \n",
       "4    NaN   NaN   NaN   NaN  \n",
       "\n",
       "[5 rows x 66 columns]"
      ]
     },
     "execution_count": 195,
     "metadata": {},
     "output_type": "execute_result"
    }
   ],
   "source": [
    "df.head()"
   ]
  },
  {
   "cell_type": "code",
   "execution_count": 196,
   "metadata": {},
   "outputs": [],
   "source": [
    "threshold = int(1e7)\n",
    "# threshold = int(1e5)"
   ]
  },
  {
   "cell_type": "code",
   "execution_count": 197,
   "metadata": {},
   "outputs": [],
   "source": [
    "df[pd.isna(df)] = threshold\n",
    "df = np.log1p(df)"
   ]
  },
  {
   "cell_type": "code",
   "execution_count": 198,
   "metadata": {},
   "outputs": [
    {
     "data": {
      "text/html": [
       "<div>\n",
       "<style scoped>\n",
       "    .dataframe tbody tr th:only-of-type {\n",
       "        vertical-align: middle;\n",
       "    }\n",
       "\n",
       "    .dataframe tbody tr th {\n",
       "        vertical-align: top;\n",
       "    }\n",
       "\n",
       "    .dataframe thead th {\n",
       "        text-align: right;\n",
       "    }\n",
       "</style>\n",
       "<table border=\"1\" class=\"dataframe\">\n",
       "  <thead>\n",
       "    <tr style=\"text-align: right;\">\n",
       "      <th></th>\n",
       "      <th>index</th>\n",
       "      <th>f</th>\n",
       "      <th>i0</th>\n",
       "      <th>d1</th>\n",
       "      <th>d2</th>\n",
       "      <th>d3</th>\n",
       "      <th>d4</th>\n",
       "      <th>d5</th>\n",
       "      <th>d6</th>\n",
       "      <th>d7</th>\n",
       "      <th>...</th>\n",
       "      <th>d54</th>\n",
       "      <th>d55</th>\n",
       "      <th>d56</th>\n",
       "      <th>d57</th>\n",
       "      <th>d58</th>\n",
       "      <th>d59</th>\n",
       "      <th>d60</th>\n",
       "      <th>d61</th>\n",
       "      <th>d62</th>\n",
       "      <th>d63</th>\n",
       "    </tr>\n",
       "  </thead>\n",
       "  <tbody>\n",
       "    <tr>\n",
       "      <th>0</th>\n",
       "      <td>0.000000</td>\n",
       "      <td>4.158883</td>\n",
       "      <td>7.404279</td>\n",
       "      <td>5.971262</td>\n",
       "      <td>4.394449</td>\n",
       "      <td>5.181784</td>\n",
       "      <td>6.169611</td>\n",
       "      <td>6.859615</td>\n",
       "      <td>3.850148</td>\n",
       "      <td>6.823286</td>\n",
       "      <td>...</td>\n",
       "      <td>3.850148</td>\n",
       "      <td>2.197225</td>\n",
       "      <td>5.062595</td>\n",
       "      <td>4.304065</td>\n",
       "      <td>3.496508</td>\n",
       "      <td>4.094345</td>\n",
       "      <td>5.327876</td>\n",
       "      <td>3.433987</td>\n",
       "      <td>2.564949</td>\n",
       "      <td>4.060443</td>\n",
       "    </tr>\n",
       "    <tr>\n",
       "      <th>1</th>\n",
       "      <td>0.693147</td>\n",
       "      <td>4.852030</td>\n",
       "      <td>2.564949</td>\n",
       "      <td>4.304065</td>\n",
       "      <td>6.192362</td>\n",
       "      <td>3.433987</td>\n",
       "      <td>5.627621</td>\n",
       "      <td>5.652489</td>\n",
       "      <td>4.867534</td>\n",
       "      <td>1.098612</td>\n",
       "      <td>...</td>\n",
       "      <td>3.401197</td>\n",
       "      <td>3.496508</td>\n",
       "      <td>3.295837</td>\n",
       "      <td>4.369448</td>\n",
       "      <td>3.218876</td>\n",
       "      <td>3.496508</td>\n",
       "      <td>4.189655</td>\n",
       "      <td>4.304065</td>\n",
       "      <td>3.688879</td>\n",
       "      <td>2.302585</td>\n",
       "    </tr>\n",
       "    <tr>\n",
       "      <th>2</th>\n",
       "      <td>1.098612</td>\n",
       "      <td>12.347077</td>\n",
       "      <td>12.328525</td>\n",
       "      <td>14.955151</td>\n",
       "      <td>12.619807</td>\n",
       "      <td>11.504147</td>\n",
       "      <td>14.405014</td>\n",
       "      <td>12.981629</td>\n",
       "      <td>10.210384</td>\n",
       "      <td>15.045718</td>\n",
       "      <td>...</td>\n",
       "      <td>16.118096</td>\n",
       "      <td>16.118096</td>\n",
       "      <td>16.118096</td>\n",
       "      <td>16.118096</td>\n",
       "      <td>16.118096</td>\n",
       "      <td>16.118096</td>\n",
       "      <td>16.118096</td>\n",
       "      <td>16.118096</td>\n",
       "      <td>16.118096</td>\n",
       "      <td>16.118096</td>\n",
       "    </tr>\n",
       "    <tr>\n",
       "      <th>3</th>\n",
       "      <td>1.386294</td>\n",
       "      <td>13.046126</td>\n",
       "      <td>14.739014</td>\n",
       "      <td>12.241961</td>\n",
       "      <td>14.972518</td>\n",
       "      <td>14.355867</td>\n",
       "      <td>13.465766</td>\n",
       "      <td>12.763033</td>\n",
       "      <td>13.973907</td>\n",
       "      <td>11.931675</td>\n",
       "      <td>...</td>\n",
       "      <td>16.118096</td>\n",
       "      <td>16.118096</td>\n",
       "      <td>16.118096</td>\n",
       "      <td>16.118096</td>\n",
       "      <td>16.118096</td>\n",
       "      <td>16.118096</td>\n",
       "      <td>16.118096</td>\n",
       "      <td>16.118096</td>\n",
       "      <td>16.118096</td>\n",
       "      <td>16.118096</td>\n",
       "    </tr>\n",
       "    <tr>\n",
       "      <th>4</th>\n",
       "      <td>1.609438</td>\n",
       "      <td>15.550127</td>\n",
       "      <td>15.617150</td>\n",
       "      <td>15.186799</td>\n",
       "      <td>16.118096</td>\n",
       "      <td>16.118096</td>\n",
       "      <td>16.118096</td>\n",
       "      <td>16.118096</td>\n",
       "      <td>16.118096</td>\n",
       "      <td>16.118096</td>\n",
       "      <td>...</td>\n",
       "      <td>16.118096</td>\n",
       "      <td>16.118096</td>\n",
       "      <td>16.118096</td>\n",
       "      <td>16.118096</td>\n",
       "      <td>16.118096</td>\n",
       "      <td>16.118096</td>\n",
       "      <td>16.118096</td>\n",
       "      <td>16.118096</td>\n",
       "      <td>16.118096</td>\n",
       "      <td>16.118096</td>\n",
       "    </tr>\n",
       "  </tbody>\n",
       "</table>\n",
       "<p>5 rows × 66 columns</p>\n",
       "</div>"
      ],
      "text/plain": [
       "      index          f         i0         d1         d2         d3         d4  \\\n",
       "0  0.000000   4.158883   7.404279   5.971262   4.394449   5.181784   6.169611   \n",
       "1  0.693147   4.852030   2.564949   4.304065   6.192362   3.433987   5.627621   \n",
       "2  1.098612  12.347077  12.328525  14.955151  12.619807  11.504147  14.405014   \n",
       "3  1.386294  13.046126  14.739014  12.241961  14.972518  14.355867  13.465766   \n",
       "4  1.609438  15.550127  15.617150  15.186799  16.118096  16.118096  16.118096   \n",
       "\n",
       "          d5         d6         d7    ...            d54        d55  \\\n",
       "0   6.859615   3.850148   6.823286    ...       3.850148   2.197225   \n",
       "1   5.652489   4.867534   1.098612    ...       3.401197   3.496508   \n",
       "2  12.981629  10.210384  15.045718    ...      16.118096  16.118096   \n",
       "3  12.763033  13.973907  11.931675    ...      16.118096  16.118096   \n",
       "4  16.118096  16.118096  16.118096    ...      16.118096  16.118096   \n",
       "\n",
       "         d56        d57        d58        d59        d60        d61  \\\n",
       "0   5.062595   4.304065   3.496508   4.094345   5.327876   3.433987   \n",
       "1   3.295837   4.369448   3.218876   3.496508   4.189655   4.304065   \n",
       "2  16.118096  16.118096  16.118096  16.118096  16.118096  16.118096   \n",
       "3  16.118096  16.118096  16.118096  16.118096  16.118096  16.118096   \n",
       "4  16.118096  16.118096  16.118096  16.118096  16.118096  16.118096   \n",
       "\n",
       "         d62        d63  \n",
       "0   2.564949   4.060443  \n",
       "1   3.688879   2.302585  \n",
       "2  16.118096  16.118096  \n",
       "3  16.118096  16.118096  \n",
       "4  16.118096  16.118096  \n",
       "\n",
       "[5 rows x 66 columns]"
      ]
     },
     "execution_count": 198,
     "metadata": {},
     "output_type": "execute_result"
    }
   ],
   "source": [
    "df.head()"
   ]
  },
  {
   "cell_type": "code",
   "execution_count": 199,
   "metadata": {},
   "outputs": [],
   "source": [
    "permutation_idx = np.random.RandomState(seed=42).permutation(len(df))"
   ]
  },
  {
   "cell_type": "code",
   "execution_count": 200,
   "metadata": {},
   "outputs": [],
   "source": [
    "pivot = int(len(permutation_idx)*0.7)\n",
    "train_idx = permutation_idx[:pivot]\n",
    "test_idx = permutation_idx[pivot:]"
   ]
  },
  {
   "cell_type": "code",
   "execution_count": 201,
   "metadata": {},
   "outputs": [],
   "source": [
    "X_train = df[x_fields].loc[train_idx]\n",
    "y_train = df[y_field].loc[train_idx]\n",
    "\n",
    "X_test = df[x_fields].loc[test_idx]\n",
    "y_test = df[y_field].loc[test_idx]"
   ]
  },
  {
   "cell_type": "code",
   "execution_count": 202,
   "metadata": {},
   "outputs": [],
   "source": [
    "reg = LinearRegression().fit(X_train, y_train)"
   ]
  },
  {
   "cell_type": "code",
   "execution_count": 203,
   "metadata": {},
   "outputs": [],
   "source": [
    "y_pred = reg.predict(X_test)"
   ]
  },
  {
   "cell_type": "code",
   "execution_count": 204,
   "metadata": {},
   "outputs": [],
   "source": [
    "from sklearn import metrics"
   ]
  },
  {
   "cell_type": "code",
   "execution_count": 205,
   "metadata": {},
   "outputs": [
    {
     "data": {
      "text/plain": [
       "1.5879832802800689"
      ]
     },
     "execution_count": 205,
     "metadata": {},
     "output_type": "execute_result"
    }
   ],
   "source": [
    "metrics.mean_squared_error(y_test, y_pred)"
   ]
  },
  {
   "cell_type": "code",
   "execution_count": 206,
   "metadata": {},
   "outputs": [
    {
     "data": {
      "text/plain": [
       "0.9665437928875534"
      ]
     },
     "execution_count": 206,
     "metadata": {},
     "output_type": "execute_result"
    }
   ],
   "source": [
    "metrics.mean_absolute_error(y_test, y_pred)"
   ]
  },
  {
   "cell_type": "code",
   "execution_count": 180,
   "metadata": {},
   "outputs": [
    {
     "data": {
      "text/plain": [
       "1.0527253009945357"
      ]
     },
     "execution_count": 180,
     "metadata": {},
     "output_type": "execute_result"
    }
   ],
   "source": [
    "metrics.mean_squared_error(y_test, y_pred)"
   ]
  },
  {
   "cell_type": "code",
   "execution_count": 181,
   "metadata": {},
   "outputs": [
    {
     "data": {
      "text/plain": [
       "0.7153575563578548"
      ]
     },
     "execution_count": 181,
     "metadata": {},
     "output_type": "execute_result"
    }
   ],
   "source": [
    "metrics.mean_absolute_error(y_test, y_pred)"
   ]
  },
  {
   "cell_type": "code",
   "execution_count": 207,
   "metadata": {},
   "outputs": [
    {
     "data": {
      "text/plain": [
       "5.738546660046952"
      ]
     },
     "execution_count": 207,
     "metadata": {},
     "output_type": "execute_result"
    }
   ],
   "source": [
    "y_pred.min()"
   ]
  },
  {
   "cell_type": "code",
   "execution_count": 208,
   "metadata": {},
   "outputs": [
    {
     "data": {
      "text/plain": [
       "15.392902060343504"
      ]
     },
     "execution_count": 208,
     "metadata": {},
     "output_type": "execute_result"
    }
   ],
   "source": [
    "y_pred.max()"
   ]
  },
  {
   "cell_type": "code",
   "execution_count": 220,
   "metadata": {},
   "outputs": [
    {
     "data": {
      "text/plain": [
       "(array([1.0000e+00, 1.0000e+00, 0.0000e+00, 0.0000e+00, 1.0000e+00,\n",
       "        0.0000e+00, 0.0000e+00, 0.0000e+00, 1.0000e+00, 1.0000e+00,\n",
       "        1.0000e+00, 3.0000e+00, 2.0000e+00, 8.0000e+00, 5.0000e+00,\n",
       "        9.0000e+00, 1.0000e+01, 1.1000e+01, 1.3000e+01, 2.1000e+01,\n",
       "        2.6000e+01, 2.7000e+01, 2.6000e+01, 4.5000e+01, 5.8000e+01,\n",
       "        6.5000e+01, 6.4000e+01, 7.3000e+01, 9.9000e+01, 1.1800e+02,\n",
       "        1.2900e+02, 1.8500e+02, 2.2100e+02, 2.7100e+02, 4.1400e+02,\n",
       "        5.2000e+02, 6.8200e+02, 9.1400e+02, 1.1470e+03, 1.7840e+03,\n",
       "        2.5450e+03, 3.8530e+03, 5.4140e+03, 7.5500e+03, 9.7610e+03,\n",
       "        1.3055e+04, 1.7440e+04, 2.5249e+04, 4.5802e+04, 9.5201e+04]),\n",
       " array([0.72629759, 0.72872477, 0.73115196, 0.73357915, 0.73600634,\n",
       "        0.73843352, 0.74086071, 0.7432879 , 0.74571509, 0.74814227,\n",
       "        0.75056946, 0.75299665, 0.75542383, 0.75785102, 0.76027821,\n",
       "        0.7627054 , 0.76513258, 0.76755977, 0.76998696, 0.77241415,\n",
       "        0.77484133, 0.77726852, 0.77969571, 0.78212289, 0.78455008,\n",
       "        0.78697727, 0.78940446, 0.79183164, 0.79425883, 0.79668602,\n",
       "        0.79911321, 0.80154039, 0.80396758, 0.80639477, 0.80882196,\n",
       "        0.81124914, 0.81367633, 0.81610352, 0.8185307 , 0.82095789,\n",
       "        0.82338508, 0.82581227, 0.82823945, 0.83066664, 0.83309383,\n",
       "        0.83552102, 0.8379482 , 0.84037539, 0.84280258, 0.84522976,\n",
       "        0.84765695]),\n",
       " <a list of 50 Patch objects>)"
      ]
     },
     "execution_count": 220,
     "metadata": {},
     "output_type": "execute_result"
    },
    {
     "data": {
      "image/png": "[encoded data removed]",
      "text/plain": [
       "<Figure size 432x288 with 1 Axes>"
      ]
     },
     "metadata": {
      "needs_background": "light"
     },
     "output_type": "display_data"
    }
   ],
   "source": [
    "plt.hist(np.log1p(np.log1p(np.log1p(y_pred))), bins=50)"
   ]
  },
  {
   "cell_type": "code",
   "execution_count": 210,
   "metadata": {},
   "outputs": [
    {
     "data": {
      "text/plain": [
       "(array([4.00000e+00, 1.40000e+01, 6.60000e+01, 2.33000e+02, 7.73000e+02,\n",
       "        2.58400e+03, 9.48900e+03, 2.66000e+04, 6.23740e+04, 1.30689e+05]),\n",
       " array([ 1.38629436,  2.8594745 ,  4.33265464,  5.80583478,  7.27901492,\n",
       "         8.75219506, 10.2253752 , 11.69855533, 13.17173547, 14.64491561,\n",
       "        16.11809575]),\n",
       " <a list of 10 Patch objects>)"
      ]
     },
     "execution_count": 210,
     "metadata": {},
     "output_type": "execute_result"
    },
    {
     "data": {
      "image/png": "[encoded data removed]",
      "text/plain": [
       "<Figure size 432x288 with 1 Axes>"
      ]
     },
     "metadata": {
      "needs_background": "light"
     },
     "output_type": "display_data"
    }
   ],
   "source": [
    "plt.hist(y_test.values)"
   ]
  },
  {
   "cell_type": "code",
   "execution_count": 211,
   "metadata": {},
   "outputs": [
    {
     "data": {
      "image/png": "[encoded data removed]",
      "text/plain": [
       "<Figure size 432x288 with 1 Axes>"
      ]
     },
     "metadata": {
      "needs_background": "light"
     },
     "output_type": "display_data"
    }
   ],
   "source": [
    "plt.hist(y_test.values[:, 0] - y_pred[:, 0], bins=70)\n",
    "plt.show()"
   ]
  },
  {
   "cell_type": "code",
   "execution_count": null,
   "metadata": {},
   "outputs": [],
   "source": []
  }
 ],
 "metadata": {
  "kernelspec": {
   "display_name": "webcachesim",
   "language": "python",
   "name": "webcachesim_env"
  },
  "language_info": {
   "codemirror_mode": {
    "name": "ipython",
    "version": 3
   },
   "file_extension": ".py",
   "mimetype": "text/x-python",
   "name": "python",
   "nbconvert_exporter": "python",
   "pygments_lexer": "ipython3",
   "version": "3.6.7"
  }
 },
 "nbformat": 4,
 "nbformat_minor": 2
}
