{
 "cells": [
  {
   "cell_type": "code",
   "execution_count": 4,
   "metadata": {},
   "outputs": [],
   "source": [
    "import numpy as np\n",
    "import pandas as pd"
   ]
  },
  {
   "cell_type": "code",
   "execution_count": 5,
   "metadata": {},
   "outputs": [],
   "source": [
    "def rand_zipf(n_object: int, alpha: float, n_request: int) -> np.ndarray:\n",
    "    \"\"\"\n",
    "    generate zipF distribution integer\n",
    "    :param n_object: generated number from [0, n)\n",
    "    :param alpha: parameter in Zipf distribution\n",
    "    :param n_request: number of integer to generate\n",
    "    :return: a list of generated integer\n",
    "    \"\"\"\n",
    "    # Calculate Zeta values from 1 to n:\n",
    "    pdf = np.power(np.arange(1, n_object + 1), -alpha)\n",
    "    zeta = np.cumsum(pdf)\n",
    "    # Store the translation map:\n",
    "    dist_map = zeta/zeta[-1]\n",
    "    # Generate an array of uniform 0-1 pseudo-random values:\n",
    "    u = np.random.random(n_request)\n",
    "    # bisect them with dist_map\n",
    "    v = np.searchsorted(dist_map, u)\n",
    "    v = v.astype(int)\n",
    "    return v"
   ]
  },
  {
   "cell_type": "code",
   "execution_count": 13,
   "metadata": {},
   "outputs": [],
   "source": [
    "\"\"\"\n",
    "    synthetic\n",
    "    alpha: parameter of zipf\n",
    "    n_request: number of request in total\n",
    "    mean_request_per_object: average request per object\n",
    "    n_object: \n",
    "\"\"\"\n",
    "alpha = 0.7\n",
    "n_request = 100000000\n",
    "mean_request_per_object = 25\n",
    "n_object = n_request // mean_request_per_object\n",
    "\n",
    "trace_stem = 'synthetic_{}_{}'.format(n_request, mean_request_per_object)\n",
    "np.random.seed(0)\n",
    "trace = rand_zipf(n_object, alpha, n_request)\n",
    "# trace['timestamp'] = trace.index\n",
    "\n",
    "# trace = helper.processing(\n",
    "#     trace, \n",
    "#     trace_stem,\n",
    "# )"
   ]
  },
  {
   "cell_type": "code",
   "execution_count": 10,
   "metadata": {},
   "outputs": [
    {
     "data": {
      "text/plain": [
       "array([ 650, 1432,  858, ..., 2091,  658,   56])"
      ]
     },
     "execution_count": 10,
     "metadata": {},
     "output_type": "execute_result"
    }
   ],
   "source": [
    "trace"
   ]
  },
  {
   "cell_type": "code",
   "execution_count": 15,
   "metadata": {},
   "outputs": [],
   "source": [
    "with open('/data/zhenyus/webcachesim/trace/synthetic_urm.tr', 'w') as fout:\n",
    "    for i, key in enumerate(trace):\n",
    "        fout.write(f'{i+1} {key} 1\\n')"
   ]
  },
  {
   "cell_type": "code",
   "execution_count": null,
   "metadata": {},
   "outputs": [],
   "source": []
  }
 ],
 "metadata": {
  "kernelspec": {
   "display_name": "Python 3",
   "language": "python",
   "name": "python3"
  },
  "language_info": {
   "codemirror_mode": {
    "name": "ipython",
    "version": 3
   },
   "file_extension": ".py",
   "mimetype": "text/x-python",
   "name": "python",
   "nbconvert_exporter": "python",
   "pygments_lexer": "ipython3",
   "version": "3.6.4"
  }
 },
 "nbformat": 4,
 "nbformat_minor": 2
}
