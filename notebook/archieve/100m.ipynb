{
 "cells": [
  {
   "cell_type": "code",
   "execution_count": 1,
   "metadata": {},
   "outputs": [],
   "source": [
    "from glob import glob\n",
    "from pqdict import pqdict"
   ]
  },
  {
   "cell_type": "code",
   "execution_count": 2,
   "metadata": {},
   "outputs": [],
   "source": [
    "log_dir = '/data/zhenyus/tconvert_data/memcachier-trace-long/100m'"
   ]
  },
  {
   "cell_type": "code",
   "execution_count": 3,
   "metadata": {},
   "outputs": [],
   "source": [
    "files = glob(f'{log_dir}/*')"
   ]
  },
  {
   "cell_type": "code",
   "execution_count": 4,
   "metadata": {},
   "outputs": [],
   "source": [
    "open_files = [open(f) for f in files]\n",
    "queue = pqdict()\n",
    "buf = {}"
   ]
  },
  {
   "cell_type": "code",
   "execution_count": 5,
   "metadata": {},
   "outputs": [],
   "source": [
    "for i, file in enumerate(open_files):\n",
    "    fields = file.readline().split(sep=',')\n",
    "    if len(fields) > 3: \n",
    "        key = hash(fields[1]+fields[2])%10**19\n",
    "        prio = int(fields[0])\n",
    "        buf[i] = (prio, key, fields[2])\n",
    "        queue[i] = prio"
   ]
  },
  {
   "cell_type": "code",
   "execution_count": 6,
   "metadata": {},
   "outputs": [],
   "source": [
    "with open('/data/zhenyus/tconvert_data/memcachier-trace-long/memcachier100m.tr', 'w') as f:\n",
    "    i = 0\n",
    "    while i < 100000000:\n",
    "        idx = queue.pop()\n",
    "        prio, key, size = buf[idx]\n",
    "        f.write(f'{prio} {key} {size}\\n')\n",
    "        fields = open_files[idx].readline().split(sep=',')\n",
    "        if len(fields) > 3: \n",
    "            key = hash(fields[1]+fields[2])%10**19\n",
    "            prio = int(fields[0])\n",
    "            buf[idx] = (prio, key, fields[2])\n",
    "            queue[idx] = prio\n",
    "        i+=1"
   ]
  },
  {
   "cell_type": "code",
   "execution_count": 7,
   "metadata": {},
   "outputs": [
    {
     "data": {
      "text/plain": [
       "['']"
      ]
     },
     "execution_count": 7,
     "metadata": {},
     "output_type": "execute_result"
    }
   ],
   "source": [
    "fields"
   ]
  },
  {
   "cell_type": "code",
   "execution_count": null,
   "metadata": {},
   "outputs": [],
   "source": []
  }
 ],
 "metadata": {
  "kernelspec": {
   "display_name": "sushi",
   "language": "python",
   "name": "sushi"
  },
  "language_info": {
   "codemirror_mode": {
    "name": "ipython",
    "version": 3
   },
   "file_extension": ".py",
   "mimetype": "text/x-python",
   "name": "python",
   "nbconvert_exporter": "python",
   "pygments_lexer": "ipython3",
   "version": "3.6.5"
  }
 },
 "nbformat": 4,
 "nbformat_minor": 2
}
