{
 "cells": [
  {
   "cell_type": "code",
   "execution_count": 1,
   "metadata": {},
   "outputs": [],
   "source": [
    "%matplotlib inline\n",
    "import pandas as pd\n",
    "import numpy as np\n",
    "\n",
    "import matplotlib.pyplot as plt\n",
    "import matplotlib\n",
    "import seaborn as sns\n",
    "from glob import glob\n",
    "import pathlib\n",
    "import common\n",
    "\n",
    "FONT_SIZE = 15\n",
    "plt.rc('font', size=FONT_SIZE)          # controls default text sizes\n",
    "plt.rc('axes', titlesize=FONT_SIZE)     # fontsize of the axes title\n",
    "plt.rc('axes', labelsize=FONT_SIZE)    # fontsize of the x and y labels\n",
    "plt.rc('xtick', labelsize=FONT_SIZE)    # fontsize of the tick labels\n",
    "plt.rc('ytick', labelsize=FONT_SIZE)    # fontsize of the tick labels\n",
    "plt.rc('legend', fontsize=FONT_SIZE)    # legend fontsize\n",
    "plt.rc('figure', titlesize=FONT_SIZE)  # fontsize of the figure title\n",
    "matplotlib.rc('lines', linewidth=3)"
   ]
  },
  {
   "cell_type": "code",
   "execution_count": 4,
   "metadata": {},
   "outputs": [],
   "source": [
    "trace = 'synthetic_urm.tr'\n",
    "\n",
    "df = common.load_reports(common.log_dir)\n",
    "filter_idx = (\n",
    "    (df.trace_file == trace) \n",
    "    & (df.uni_size == 1)\n",
    "    & (df.n_warmup == 20000000)\n",
    ")\n",
    "\n",
    "df1 = df[filter_idx].copy()\n",
    "df1['label'] = df1.apply(lambda x: to_label(x), axis='columns')"
   ]
  },
  {
   "cell_type": "code",
   "execution_count": 5,
   "metadata": {},
   "outputs": [
    {
     "data": {
      "image/png": "[encoded data removed]",
      "text/plain": [
       "<matplotlib.figure.Figure at 0x7f5269bfb470>"
      ]
     },
     "metadata": {},
     "output_type": "display_data"
    }
   ],
   "source": [
    "top = df1[['label', 'cache_size', 'byte_hit_rate']].groupby(['label']).agg({'byte_hit_rate': 'mean'}).sort_values(by='byte_hit_rate', ascending=False)[0:5].index.tolist()\n",
    "df_show = df1[df1.label.isin(top)]\n",
    "\n",
    "fig, ax = plt.subplots(figsize=(12, 8))\n",
    "for k, grp in df_show.groupby(['label']):\n",
    "    grp = grp.sort_values(by=['cache_size'])\n",
    "    ax = grp.plot(ax=ax, kind='line', x='cache_size', y='byte_hit_rate', label=k, marker='*', markersize=12)\n",
    "plt.legend(loc=9, bbox_to_anchor=(0.5, -0.1))\n",
    "plt.ylabel('hit rate')\n",
    "plt.title(trace)\n",
    "plt.ylim([0, 1.])\n",
    "plt.show()"
   ]
  },
  {
   "cell_type": "code",
   "execution_count": 6,
   "metadata": {},
   "outputs": [
    {
     "data": {
      "text/html": [
       "<div>\n",
       "<style scoped>\n",
       "    .dataframe tbody tr th:only-of-type {\n",
       "        vertical-align: middle;\n",
       "    }\n",
       "\n",
       "    .dataframe tbody tr th {\n",
       "        vertical-align: top;\n",
       "    }\n",
       "\n",
       "    .dataframe thead th {\n",
       "        text-align: right;\n",
       "    }\n",
       "</style>\n",
       "<table border=\"1\" class=\"dataframe\">\n",
       "  <thead>\n",
       "    <tr style=\"text-align: right;\">\n",
       "      <th>cache_size</th>\n",
       "      <th>500000</th>\n",
       "      <th>1000000</th>\n",
       "      <th>2000000</th>\n",
       "      <th>5000000</th>\n",
       "      <th>10000000</th>\n",
       "    </tr>\n",
       "    <tr>\n",
       "      <th>cache_type</th>\n",
       "      <th></th>\n",
       "      <th></th>\n",
       "      <th></th>\n",
       "      <th></th>\n",
       "      <th></th>\n",
       "    </tr>\n",
       "  </thead>\n",
       "  <tbody>\n",
       "    <tr>\n",
       "      <th>Belady</th>\n",
       "      <td>0.657</td>\n",
       "      <td>0.779</td>\n",
       "      <td>0.903</td>\n",
       "      <td>0.995</td>\n",
       "      <td>0.995</td>\n",
       "    </tr>\n",
       "  </tbody>\n",
       "</table>\n",
       "</div>"
      ],
      "text/plain": [
       "cache_size  500000    1000000   2000000   5000000   10000000\n",
       "cache_type                                                  \n",
       "Belady         0.657     0.779     0.903     0.995     0.995"
      ]
     },
     "execution_count": 6,
     "metadata": {},
     "output_type": "execute_result"
    }
   ],
   "source": [
    "df1.pivot(index='cache_type', columns='cache_size', values='byte_hit_rate').round(3)"
   ]
  },
  {
   "cell_type": "code",
   "execution_count": null,
   "metadata": {},
   "outputs": [],
   "source": []
  }
 ],
 "metadata": {
  "kernelspec": {
   "display_name": "Python 3",
   "language": "python",
   "name": "python3"
  },
  "language_info": {
   "codemirror_mode": {
    "name": "ipython",
    "version": 3
   },
   "file_extension": ".py",
   "mimetype": "text/x-python",
   "name": "python",
   "nbconvert_exporter": "python",
   "pygments_lexer": "ipython3",
   "version": "3.6.4"
  }
 },
 "nbformat": 4,
 "nbformat_minor": 2
}
