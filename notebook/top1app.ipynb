{
 "cells": [
  {
   "cell_type": "code",
   "execution_count": 1,
   "metadata": {},
   "outputs": [],
   "source": [
    "with open('/data/zhenyus/tconvert_data/memcachier-trace-long/100m/eba183.csv') as f:\n",
    "    with open('/data/zhenyus/tconvert_data/memcachier-trace-long/memcachier0app100m.tr', 'w') as fout:\n",
    "        for line in f:\n",
    "            fields = line.split(sep=',')\n",
    "            if len(fields):\n",
    "                t = fields[0]\n",
    "                key = fields[1]\n",
    "                size = fields[2]\n",
    "                h = hash(key+size)%10**19\n",
    "                fout.write(f'{t} {h} {size}\\n')"
   ]
  },
  {
   "cell_type": "code",
   "execution_count": 11,
   "metadata": {},
   "outputs": [],
   "source": [
    "with open('/data/zhenyus/webcachesim/trace/msr_proj_1.tr') as f:\n",
    "    with open('/data/zhenyus/webcachesim/trace/msr_proj_1.tr.new', 'w') as fout:\n",
    "        for line in f:\n",
    "            fields = line.split(sep=' ')\n",
    "            if len(fields):\n",
    "                t = fields[0]\n",
    "                key = fields[1]\n",
    "                size = str(int(fields[2]))\n",
    "                h = hash(key+size)%10**19\n",
    "                fout.write(f'{t} {h} {size}\\n')"
   ]
  },
  {
   "cell_type": "code",
   "execution_count": 12,
   "metadata": {},
   "outputs": [],
   "source": [
    "size_map = {}\n",
    "with open('/data/zhenyus/webcachesim/trace/msr_proj_1.tr') as f:\n",
    "    for line in f:\n",
    "            fields = line.split(sep=' ')\n",
    "            if len(fields):\n",
    "                t = fields[0]\n",
    "                key = fields[1]\n",
    "                size = str(int(fields[2]))\n",
    "                if key in size_map and size_map[key] != size:\n",
    "                    raise\n",
    "                size_map[key] = size"
   ]
  },
  {
   "cell_type": "code",
   "execution_count": null,
   "metadata": {},
   "outputs": [],
   "source": []
  }
 ],
 "metadata": {
  "kernelspec": {
   "display_name": "Python 3",
   "language": "python",
   "name": "python3"
  },
  "language_info": {
   "codemirror_mode": {
    "name": "ipython",
    "version": 3
   },
   "file_extension": ".py",
   "mimetype": "text/x-python",
   "name": "python",
   "nbconvert_exporter": "python",
   "pygments_lexer": "ipython3",
   "version": "3.6.4"
  }
 },
 "nbformat": 4,
 "nbformat_minor": 2
}
