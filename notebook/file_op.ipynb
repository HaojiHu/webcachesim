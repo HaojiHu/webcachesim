{
 "cells": [
  {
   "cell_type": "code",
   "execution_count": 1,
   "metadata": {},
   "outputs": [],
   "source": [
    "import yaml\n",
    "import os\n",
    "from glob import glob"
   ]
  },
  {
   "cell_type": "code",
   "execution_count": 2,
   "metadata": {},
   "outputs": [],
   "source": [
    "report_root = '/data/zhenyus/webcachesim/log'"
   ]
  },
  {
   "cell_type": "code",
   "execution_count": 3,
   "metadata": {},
   "outputs": [],
   "source": [
    "def get_records(files):\n",
    "    records = []\n",
    "    for file in files:\n",
    "        try:\n",
    "            with open(file) as f:\n",
    "                record = yaml.load(f)\n",
    "                records.append(record)\n",
    "        except Exception as e:\n",
    "            print(f'file {file} can not be parsed')\n",
    "    return records"
   ]
  },
  {
   "cell_type": "code",
   "execution_count": 55,
   "metadata": {},
   "outputs": [],
   "source": [
    "# remove empty\n",
    "files = glob(f'{report_root}/*')\n",
    "records = get_records(files)\n",
    "for i, r in enumerate(records):\n",
    "    if r == None:\n",
    "        os.remove(files[i])"
   ]
  },
  {
   "cell_type": "code",
   "execution_count": 75,
   "metadata": {},
   "outputs": [],
   "source": [
    "# dedup\n",
    "files = glob(f'{report_root}/*')\n",
    "files.sort(reverse=True)\n",
    "records = get_records(files)\n",
    "\n",
    "task_seen = set()\n",
    "for i, r in enumerate(records):\n",
    "    r = r['task']\n",
    "    del r['task_id']\n",
    "    r = yaml.dump(r)\n",
    "    if r in task_seen:\n",
    "        os.remove(files[i])\n",
    "    task_seen.add(r)"
   ]
  }
 ],
 "metadata": {
  "kernelspec": {
   "display_name": "sushi",
   "language": "python",
   "name": "sushi"
  },
  "language_info": {
   "codemirror_mode": {
    "name": "ipython",
    "version": 3
   },
   "file_extension": ".py",
   "mimetype": "text/x-python",
   "name": "python",
   "nbconvert_exporter": "python",
   "pygments_lexer": "ipython3",
   "version": "3.6.5"
  }
 },
 "nbformat": 4,
 "nbformat_minor": 2
}
