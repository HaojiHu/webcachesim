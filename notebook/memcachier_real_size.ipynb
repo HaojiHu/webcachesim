{
 "cells": [
  {
   "cell_type": "code",
   "execution_count": 1,
   "metadata": {},
   "outputs": [],
   "source": [
    "# n: size underestimate, in MB\n",
    "size = {\n",
    "131:0,\n",
    "75:1,\n",
    "18:11,\n",
    "9:21,\n",
    "14:31,\n",
    "10:41,\n",
    "7:51,\n",
    "5:61,\n",
    "4:71,\n",
    "6:81,\n",
    "6:91,\n",
    "45:101,\n",
    "3:111,\n",
    "2:121,\n",
    "0:131,\n",
    "4:141,\n",
    "0:151,\n",
    "1:161,\n",
    "3:171,\n",
    "3:181,\n",
    "0:191,\n",
    "7:201,\n",
    "29:251,\n",
    "2:301,\n",
    "2:351,\n",
    "1:401,\n",
    "1:451,\n",
    "18:501,\n",
    "2:551,\n",
    "2:601,\n",
    "8:1001,\n",
    "2:1501,\n",
    "15:2001,\n",
    "4:2501,\n",
    "6:5001,\n",
    "5:10001,\n",
    "3:20001,\n",
    "1:50000,\n",
    "}"
   ]
  },
  {
   "cell_type": "code",
   "execution_count": 3,
   "metadata": {},
   "outputs": [],
   "source": [
    "s = 0\n",
    "for k, v in size.items():\n",
    "    s += k*v"
   ]
  },
  {
   "cell_type": "code",
   "execution_count": 4,
   "metadata": {},
   "outputs": [
    {
     "data": {
      "text/plain": [
       "264400"
      ]
     },
     "execution_count": 4,
     "metadata": {},
     "output_type": "execute_result"
    }
   ],
   "source": [
    "s"
   ]
  },
  {
   "cell_type": "code",
   "execution_count": null,
   "metadata": {},
   "outputs": [],
   "source": []
  }
 ],
 "metadata": {
  "kernelspec": {
   "display_name": "webcachesim",
   "language": "python",
   "name": "webcachesim_env"
  },
  "language_info": {
   "codemirror_mode": {
    "name": "ipython",
    "version": 3
   },
   "file_extension": ".py",
   "mimetype": "text/x-python",
   "name": "python",
   "nbconvert_exporter": "python",
   "pygments_lexer": "ipython3",
   "version": "3.6.7"
  }
 },
 "nbformat": 4,
 "nbformat_minor": 2
}
