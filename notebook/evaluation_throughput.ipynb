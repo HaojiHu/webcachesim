{
 "cells": [
  {
   "cell_type": "code",
   "execution_count": 100,
   "metadata": {},
   "outputs": [],
   "source": [
    "%matplotlib inline\n",
    "import pandas as pd\n",
    "import numpy as np\n",
    "\n",
    "import matplotlib.pyplot as plt\n",
    "import matplotlib\n",
    "import seaborn as sns\n",
    "from glob import glob\n",
    "import pathlib\n",
    "import common\n",
    "\n",
    "FONT_SIZE = 15\n",
    "plt.rc('font', size=FONT_SIZE)          # controls default text sizes\n",
    "plt.rc('axes', titlesize=FONT_SIZE)     # fontsize of the axes title\n",
    "plt.rc('axes', labelsize=FONT_SIZE)    # fontsize of the x and y labels\n",
    "plt.rc('xtick', labelsize=FONT_SIZE)    # fontsize of the tick labels\n",
    "plt.rc('ytick', labelsize=FONT_SIZE)    # fontsize of the tick labels\n",
    "plt.rc('legend', fontsize=FONT_SIZE)    # legend fontsize\n",
    "plt.rc('figure', titlesize=FONT_SIZE)  # fontsize of the figure title\n",
    "matplotlib.rc('lines', linewidth=3)"
   ]
  },
  {
   "cell_type": "code",
   "execution_count": 151,
   "metadata": {},
   "outputs": [],
   "source": [
    "data_prefix = '/data/zhenyus/webcachesim/ats_log'\n",
    "sleep_time = 15.\n",
    "max_log2_client = 8\n",
    "n_client = 256\n",
    "size = '128G'\n",
    "# algs = ['fifo', 'lru', 'static']\n",
    "algs = ['fifo', 'gbdt']\n",
    "unit = 'm' \n",
    "means = [0, 300]\n",
    "gbdt_version = '_fix_mem'"
   ]
  },
  {
   "cell_type": "code",
   "execution_count": 153,
   "metadata": {},
   "outputs": [],
   "source": [
    "res = []\n",
    "for mean in means:\n",
    "    for alg in algs:\n",
    "        if alg == 'gbdt' and mean == 0:\n",
    "            df = pd.read_csv(f'{data_prefix}/throughput_{unit}_{alg}_{size}_{mean}{gbdt_version}.log', names=['n', 'byte', 't'], delimiter=' ')\n",
    "        else:\n",
    "            df = pd.read_csv(f'{data_prefix}/throughput_{unit}_{alg}_{size}_{mean}.log', names=['n', 'byte', 't'], delimiter=' ')\n",
    "        df = df.loc[10:len(df)-10]\n",
    "        df['alg'] = alg\n",
    "        df['mean'] = mean\n",
    "        res.append(df)\n",
    "df = pd.concat(res)"
   ]
  },
  {
   "cell_type": "code",
   "execution_count": 154,
   "metadata": {},
   "outputs": [
    {
     "data": {
      "text/html": [
       "<div>\n",
       "<style scoped>\n",
       "    .dataframe tbody tr th:only-of-type {\n",
       "        vertical-align: middle;\n",
       "    }\n",
       "\n",
       "    .dataframe tbody tr th {\n",
       "        vertical-align: top;\n",
       "    }\n",
       "\n",
       "    .dataframe thead th {\n",
       "        text-align: right;\n",
       "    }\n",
       "</style>\n",
       "<table border=\"1\" class=\"dataframe\">\n",
       "  <thead>\n",
       "    <tr style=\"text-align: right;\">\n",
       "      <th></th>\n",
       "      <th></th>\n",
       "      <th>byte</th>\n",
       "    </tr>\n",
       "    <tr>\n",
       "      <th>alg</th>\n",
       "      <th>mean</th>\n",
       "      <th></th>\n",
       "    </tr>\n",
       "  </thead>\n",
       "  <tbody>\n",
       "    <tr>\n",
       "      <th rowspan=\"2\" valign=\"top\">fifo</th>\n",
       "      <th>0</th>\n",
       "      <td>9.096564</td>\n",
       "    </tr>\n",
       "    <tr>\n",
       "      <th>300</th>\n",
       "      <td>0.669973</td>\n",
       "    </tr>\n",
       "    <tr>\n",
       "      <th rowspan=\"2\" valign=\"top\">gbdt</th>\n",
       "      <th>0</th>\n",
       "      <td>9.051618</td>\n",
       "    </tr>\n",
       "    <tr>\n",
       "      <th>300</th>\n",
       "      <td>0.666522</td>\n",
       "    </tr>\n",
       "  </tbody>\n",
       "</table>\n",
       "</div>"
      ],
      "text/plain": [
       "               byte\n",
       "alg  mean          \n",
       "fifo 0     9.096564\n",
       "     300   0.669973\n",
       "gbdt 0     9.051618\n",
       "     300   0.666522"
      ]
     },
     "execution_count": 154,
     "metadata": {},
     "output_type": "execute_result"
    }
   ],
   "source": [
    "df.groupby(['alg', 'mean']).agg({'byte': 'mean'})/1024**3*8"
   ]
  },
  {
   "cell_type": "code",
   "execution_count": 155,
   "metadata": {},
   "outputs": [
    {
     "data": {
      "image/png": "[encoded data removed]",
      "text/plain": [
       "<Figure size 720x648 with 1 Axes>"
      ]
     },
     "metadata": {
      "needs_background": "light"
     },
     "output_type": "display_data"
    }
   ],
   "source": [
    "fig, ax = plt.subplots(figsize=(10, 9))\n",
    "for l, grp in df.groupby('alg'):\n",
    "    ax.plot(\n",
    "        grp.groupby(lambda x: x//10).agg({'byte': 'mean'})/(2**20),\n",
    "    #     '*',\n",
    "        marker='*', \n",
    "        label=l,\n",
    "    #     linestyle=None,\n",
    "        markersize=5,\n",
    "    )\n",
    "plt.ylim([0, 1500])\n",
    "# ax.spines['right'].set_visible(False)\n",
    "# ax.spines['top'].set_visible(False)\n",
    "plt.xlabel(f'time (10s)')\n",
    "plt.ylabel('throughput (MB/s)')\n",
    "plt.legend()\n",
    "# plt.legend(ncol=2, \n",
    "#            fontsize='small',\n",
    "#            columnspacing=0.5,\n",
    "#            labelspacing=0.1,\n",
    "#           handletextpad=0.3)\n",
    "# plt.title(f'Latency - Throughput')\n",
    "plt.show()"
   ]
  },
  {
   "cell_type": "code",
   "execution_count": null,
   "metadata": {},
   "outputs": [],
   "source": []
  }
 ],
 "metadata": {
  "kernelspec": {
   "display_name": "webcachesim",
   "language": "python",
   "name": "webcachesim_env"
  },
  "language_info": {
   "codemirror_mode": {
    "name": "ipython",
    "version": 3
   },
   "file_extension": ".py",
   "mimetype": "text/x-python",
   "name": "python",
   "nbconvert_exporter": "python",
   "pygments_lexer": "ipython3",
   "version": "3.6.7"
  }
 },
 "nbformat": 4,
 "nbformat_minor": 2
}
