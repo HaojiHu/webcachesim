{
 "cells": [
  {
   "cell_type": "code",
   "execution_count": 9,
   "metadata": {},
   "outputs": [],
   "source": [
    "%matplotlib inline\n",
    "import pandas as pd\n",
    "import numpy as np\n",
    "import ujson as json\n",
    "\n",
    "import matplotlib.pyplot as plt\n",
    "import matplotlib\n",
    "import seaborn as sns\n",
    "from glob import glob\n",
    "import pathlib\n",
    "import common\n",
    "\n",
    "FONT_SIZE = 15\n",
    "plt.rc('font', size=FONT_SIZE)          # controls default text sizes\n",
    "plt.rc('axes', titlesize=FONT_SIZE)     # fontsize of the axes title\n",
    "plt.rc('axes', labelsize=FONT_SIZE)    # fontsize of the x and y labels\n",
    "plt.rc('xtick', labelsize=FONT_SIZE)    # fontsize of the tick labels\n",
    "plt.rc('ytick', labelsize=FONT_SIZE)    # fontsize of the tick labels\n",
    "plt.rc('legend', fontsize=FONT_SIZE)    # legend fontsize\n",
    "plt.rc('figure', titlesize=FONT_SIZE)  # fontsize of the figure title\n",
    "matplotlib.rc('lines', linewidth=3)"
   ]
  },
  {
   "cell_type": "code",
   "execution_count": 14,
   "metadata": {},
   "outputs": [],
   "source": [
    "data_prefix = '/data/zhenyus/webcachesim/ats_log'"
   ]
  },
  {
   "cell_type": "code",
   "execution_count": 10,
   "metadata": {},
   "outputs": [],
   "source": [
    "# globally refresh\n",
    "df = common.load_reports()"
   ]
  },
  {
   "cell_type": "code",
   "execution_count": 11,
   "metadata": {},
   "outputs": [],
   "source": [
    "trace = 'wc400m.tr'\n",
    "\n",
    "filter_idx = (\n",
    "    (df.trace_file == trace) \n",
    "    & (df.cache_size == 128*2**30)\n",
    "    & (df.n_warmup == 80000000)\n",
    ")\n",
    "df1 = df[filter_idx].copy()"
   ]
  },
  {
   "cell_type": "code",
   "execution_count": 12,
   "metadata": {},
   "outputs": [
    {
     "data": {
      "text/plain": [
       "batch_size                                                             100000\n",
       "byte_hit_rate                                                        0.641001\n",
       "cache_size                                                        1.37439e+11\n",
       "cache_type                                                               GDBT\n",
       "cutoff                                                                    NaN\n",
       "feature_overhead                                                    717283820\n",
       "forget_window                                                        80000000\n",
       "k                                                                         NaN\n",
       "label                       cache_type: GDBT batch_size: 100000 forget_win...\n",
       "learning_rate                                                             0.1\n",
       "max_n_past_timestamps                                                      32\n",
       "n_edwt_feature                                                             10\n",
       "n_extra_fields                                                              1\n",
       "n_force_eviction                                                     13915836\n",
       "n_metadata                                                            6565926\n",
       "n_warmup                                                                8e+07\n",
       "num_iterations                                                             32\n",
       "num_threads                                                                 4\n",
       "object_hit_rate                                                      0.908213\n",
       "objective                                                       byte_hit_rate\n",
       "sample overhead                                                     316486824\n",
       "sample_rate                                                                64\n",
       "sample_size                                                               NaN\n",
       "sample_type                                                               NaN\n",
       "segment_byte_hit_rate       [0.21328255998544526,0.3444574681348515,0.4184...\n",
       "segment_object_hit_rate     [0.593117,0.720289,0.773213,0.802989,0.819178,...\n",
       "simulation_time                                                         11121\n",
       "trace_file                                                          wc400m.tr\n",
       "training_sample_interval                                                   64\n",
       "uni_size                                                                    0\n",
       "version                                                                    gc\n",
       "window                                                                    NaN\n",
       "Name: 5337, dtype: object"
      ]
     },
     "execution_count": 12,
     "metadata": {},
     "output_type": "execute_result"
    }
   ],
   "source": [
    "df1[df1.version == 'gc'].iloc[0]"
   ]
  },
  {
   "cell_type": "code",
   "execution_count": 29,
   "metadata": {},
   "outputs": [
    {
     "data": {
      "text/plain": [
       "batch_size                                                             100000\n",
       "byte_hit_rate                                                        0.641001\n",
       "cache_size                                                        1.37439e+11\n",
       "cache_type                                                               GDBT\n",
       "cutoff                                                                    NaN\n",
       "feature_overhead                                                    877704756\n",
       "forget_window                                                        80000000\n",
       "k                                                                         NaN\n",
       "label                       cache_type: GDBT batch_size: 100000 forget_win...\n",
       "learning_rate                                                             0.1\n",
       "max_n_past_timestamps                                                      32\n",
       "n_edwt_feature                                                             10\n",
       "n_extra_fields                                                              1\n",
       "n_force_eviction                                                        23830\n",
       "n_metadata                                                            6565926\n",
       "n_warmup                                                                8e+07\n",
       "num_iterations                                                             32\n",
       "num_threads                                                                 4\n",
       "object_hit_rate                                                      0.908213\n",
       "objective                                                       byte_hit_rate\n",
       "sample overhead                                                     115770664\n",
       "sample_rate                                                                64\n",
       "sample_size                                                               NaN\n",
       "sample_type                                                               NaN\n",
       "segment_byte_hit_rate       [0.21328255998544526,0.3444574681348515,0.4184...\n",
       "segment_object_hit_rate     [0.593117,0.720289,0.773213,0.802989,0.819178,...\n",
       "simulation_time                                                         11320\n",
       "trace_file                                                          wc400m.tr\n",
       "training_sample_interval                                                   64\n",
       "uni_size                                                                    0\n",
       "version                                                               low_mem\n",
       "window                                                                    NaN\n",
       "Name: 5336, dtype: object"
      ]
     },
     "execution_count": 29,
     "metadata": {},
     "output_type": "execute_result"
    }
   ],
   "source": [
    "df1[df1.version == 'low_mem'].iloc[0]"
   ]
  },
  {
   "cell_type": "code",
   "execution_count": 15,
   "metadata": {},
   "outputs": [],
   "source": [
    "df = pd.read_csv(f'{data_prefix}/mem.log.awk', names=['VIRT', 'RES', 'CPU'], delimiter=' ')"
   ]
  },
  {
   "cell_type": "code",
   "execution_count": 23,
   "metadata": {},
   "outputs": [],
   "source": [
    "res = []\n",
    "for r in df.RES.values:\n",
    "    if r[-1] == 'g':\n",
    "        res.append(float(r[:-1]))\n",
    "    elif r[-1] == 'm':\n",
    "        res.append(float(r[:-1])/1024)\n",
    "    else:\n",
    "        res.append(float(r)/1024/1024)"
   ]
  },
  {
   "cell_type": "code",
   "execution_count": 24,
   "metadata": {},
   "outputs": [],
   "source": [
    "res = np.array(res)"
   ]
  },
  {
   "cell_type": "code",
   "execution_count": 28,
   "metadata": {},
   "outputs": [
    {
     "data": {
      "text/plain": [
       "1.99"
      ]
     },
     "execution_count": 28,
     "metadata": {},
     "output_type": "execute_result"
    }
   ],
   "source": [
    "res.max()"
   ]
  },
  {
   "cell_type": "code",
   "execution_count": null,
   "metadata": {},
   "outputs": [],
   "source": []
  }
 ],
 "metadata": {
  "kernelspec": {
   "display_name": "webcachesim",
   "language": "python",
   "name": "webcachesim_env"
  },
  "language_info": {
   "codemirror_mode": {
    "name": "ipython",
    "version": 3
   },
   "file_extension": ".py",
   "mimetype": "text/x-python",
   "name": "python",
   "nbconvert_exporter": "python",
   "pygments_lexer": "ipython3",
   "version": "3.6.7"
  }
 },
 "nbformat": 4,
 "nbformat_minor": 2
}
