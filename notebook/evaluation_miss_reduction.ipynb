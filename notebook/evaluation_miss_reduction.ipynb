{
 "cells": [
  {
   "cell_type": "code",
   "execution_count": 306,
   "metadata": {},
   "outputs": [],
   "source": [
    "%matplotlib inline\n",
    "import pandas as pd\n",
    "import numpy as np\n",
    "\n",
    "import matplotlib.pyplot as plt\n",
    "import matplotlib\n",
    "import seaborn as sns\n",
    "from glob import glob\n",
    "import pathlib\n",
    "import common"
   ]
  },
  {
   "cell_type": "code",
   "execution_count": 403,
   "metadata": {},
   "outputs": [],
   "source": [
    "fig_dir = '/data/zhenyus/webcachesim/notebook/figures/'\n",
    "n_csizes = 8"
   ]
  },
  {
   "cell_type": "code",
   "execution_count": 390,
   "metadata": {},
   "outputs": [],
   "source": [
    "trace_cache_sizes = {\n",
    "    'traceHK.tr': {\n",
    "        4294967296,\n",
    "        8589934592,\n",
    "        17179869184,\n",
    "        34359738368,\n",
    "        68719476736,\n",
    "        137438953472,\n",
    "        274877906944,\n",
    "        549755813888,\n",
    "    },\n",
    "    'traceUS.tr': {\n",
    "        4294967296,\n",
    "        8589934592,\n",
    "        17179869184,\n",
    "        34359738368,\n",
    "        68719476736,\n",
    "        137438953472,\n",
    "        274877906944,\n",
    "        549755813888,\n",
    "    },\n",
    "    'wc400m.tr': {\n",
    "        4294967296,\n",
    "        8589934592,\n",
    "        17179869184,\n",
    "        34359738368,\n",
    "        68719476736,\n",
    "        137438953472,\n",
    "        274877906944,\n",
    "        549755813888,\n",
    "    },\n",
    "    'memc_200m.tr':{\n",
    "        67108864,\n",
    "        134217728,\n",
    "        268435456,\n",
    "        536870912,\n",
    "        1073741824,\n",
    "        2147483648,\n",
    "        4294967296,\n",
    "        8589934592,\n",
    "    },\n",
    "    'msr_rehash_200m.tr':{\n",
    "        4294967296,\n",
    "        8589934592,\n",
    "        17179869184,\n",
    "        34359738368,\n",
    "        68719476736,\n",
    "        137438953472,\n",
    "        274877906944,\n",
    "        549755813888,\n",
    "    },\n",
    "    'anonymous_200m.tr': {\n",
    "        268435456,\n",
    "        536870912,\n",
    "        1073741824,\n",
    "        2147483648,\n",
    "        4294967296,\n",
    "        8589934592,\n",
    "        17179869184,\n",
    "        34359738368,\n",
    "    },\n",
    "}"
   ]
  },
  {
   "cell_type": "code",
   "execution_count": 391,
   "metadata": {},
   "outputs": [],
   "source": [
    "color_map = {\n",
    "    'Belady': 'k',\n",
    "#     'BeladySample': '#000080',\n",
    "    'GDBT': 'b',\n",
    "#     'LR': 'r',\n",
    "    'LRUK': 'g',\n",
    "    'FIFO': 'r',\n",
    "    'LFUDA': '#808080',\n",
    "#     'GDSF': 'm',\n",
    "    'LRU': 'm',\n",
    "    'LFU': '#808080',\n",
    "    'S4LRU': 'r',\n",
    "    'LHD': 'r',\n",
    "#     'Hyperbolic': 'chartreuse',\n",
    "    'LeCaR': '#ed740b',\n",
    "#     'AdaptSize': '#669999',\n",
    "\n",
    "#     'GDWheel': '#000080',\n",
    "    'Adaptive-TinyLFU': 'burlywood',\n",
    "}"
   ]
  },
  {
   "cell_type": "code",
   "execution_count": 392,
   "metadata": {},
   "outputs": [],
   "source": [
    "trace_map = {\n",
    "    'wc200m.tr': 'Wiki',\n",
    "    'wc400m.tr': 'Wiki',\n",
    "    'traceHK.tr': 'CDN-A',\n",
    "    'traceUS.tr': 'CDN-E',\n",
    "    'memc_200m.tr': 'Memc',\n",
    "    'msr_rehash_200m.tr': 'MSR',\n",
    "    'anonymous_200m.tr': 'A-App',\n",
    "    'caida_cache_200m.tr': 'Caida',\n",
    "}"
   ]
  },
  {
   "cell_type": "code",
   "execution_count": 269,
   "metadata": {},
   "outputs": [],
   "source": [
    "# find top algorithms\n",
    "df = common.load_reports()"
   ]
  },
  {
   "cell_type": "code",
   "execution_count": 406,
   "metadata": {},
   "outputs": [],
   "source": [
    "filter_idx = ((\n",
    "    (df.trace_file == 'traceHK.tr') \n",
    "    & (df.uni_size == 0)\n",
    "    & (~df.cache_type.isin(['Inf', 'BeladySample', 'BeladyTruncate', 'LRU2', 'ThS4LRU', 'ThLRU', 'LR'])) \n",
    "    & (df.cache_size.isin(trace_cache_sizes['traceHK.tr']))\n",
    "    & (df.n_warmup == 80000000)\n",
    ") | ((df.trace_file == 'traceUS.tr') \n",
    "    & (df.uni_size == 0)\n",
    "    & (~df.cache_type.isin(['Inf', 'BeladySample', 'BeladyTruncate', 'LRU2', 'ThS4LRU', 'ThLRU', 'LR'])) \n",
    "    & (df.cache_size.isin(trace_cache_sizes['traceUS.tr']))\n",
    "    & (df.n_warmup == 100000000)\n",
    ") | (\n",
    "    (df.trace_file == 'wc400m.tr') \n",
    "    & (df.uni_size == 0)\n",
    "    & (~df.cache_type.isin(['Inf', 'BeladySample', 'BeladyTruncate', 'LRU2', 'ThS4LRU', 'ThLRU', 'LR'])) \n",
    "    & (df.cache_size.isin(trace_cache_sizes['wc400m.tr']))\n",
    "    & (df.n_warmup == 80000000)\n",
    ") | (\n",
    "    (df.trace_file == 'memc_200m.tr') \n",
    "    & (df.uni_size == 0)\n",
    "     & (~df.cache_type.isin(['Inf', 'BeladySample', 'BeladyTruncate', 'LRU2', 'ThS4LRU', 'ThLRU', 'LR'])) \n",
    "    & (df.cache_size.isin(trace_cache_sizes['memc_200m.tr']))\n",
    "    & (df.n_warmup == 20000000)\n",
    ")| (\n",
    "    (df.trace_file == 'msr_rehash_200m.tr') \n",
    "    & (df.uni_size == 0)\n",
    "     & (~df.cache_type.isin(['Inf', 'BeladySample', 'BeladyTruncate', 'LRU2', 'ThS4LRU', 'ThLRU', 'LR'])) \n",
    "    & (df.cache_size.isin(trace_cache_sizes['msr_rehash_200m.tr']))\n",
    "    & (df.n_warmup == 100000000)\n",
    ") | (\n",
    "    (df.trace_file == 'anonymous_200m.tr') \n",
    "    & (df.uni_size == 0)\n",
    "     & (~df.cache_type.isin(['Inf', 'BeladySample', 'BeladyTruncate', 'LRU2', 'ThS4LRU', 'ThLRU', 'LR'])) \n",
    "    & (df.cache_size.isin(trace_cache_sizes['anonymous_200m.tr']))\n",
    "    & (df.n_warmup == 20000000)\n",
    ")\n",
    "#     | (\n",
    "#     (df.trace_file == 'caida_cache_200m.tr') \n",
    "#     & (df.uni_size == 0)\n",
    "#      & (~df.cache_type.isin(['Inf', 'BeladySample', 'BeladyTruncate', 'LRU2', 'ThS4LRU', 'ThLRU', 'LR'])) \n",
    "#     & (df.cache_size.isin(trace_cache_sizes['caida_cache_200m.tr']))\n",
    "#     & (df.n_warmup == 20000000)\n",
    "# )\n",
    ")\n",
    "\n",
    "\n",
    "df1 = df[filter_idx].copy()"
   ]
  },
  {
   "cell_type": "code",
   "execution_count": 407,
   "metadata": {},
   "outputs": [],
   "source": [
    "res = []\n",
    "for l, grp in df1.groupby(['trace_file', 'cache_size']):\n",
    "    df2 = grp[grp['byte_hit_rate'] == grp.groupby('cache_type')['byte_hit_rate'].transform(max)]\n",
    "    df2 = df2.groupby('cache_type').first().reset_index().sort_values('byte_hit_rate', ascending=False).reset_index(drop=True)\n",
    "    res.append({\n",
    "        'Belady': 1-df2[df2.cache_type == 'Belady'].byte_hit_rate.values[0],\n",
    "        'GDBT': 1-df2[df2.cache_type == 'GDBT'].byte_hit_rate.values[0],\n",
    "        'SOA': 1-df2[~df2.cache_type.isin(['Belady', 'GDBT'])].byte_hit_rate.values[0],\n",
    "        'LRU': 1-df2[df2.cache_type == 'LRU'].byte_hit_rate.values[0],\n",
    "        'TLFU': 1-df2[df2.cache_type == 'Adaptive-TinyLFU'].byte_hit_rate.values[0],\n",
    "        'LFUDA': 1-df2[df2.cache_type == 'LFUDA'].byte_hit_rate.values[0],\n",
    "        'type': 'cdn' if l[0] in ['traceHK.tr', 'traceUS.tr', 'wc400m.tr'] else 'nocdn',\n",
    "        'SOA_alg': df2[~df2.cache_type.isin(['Belady', 'GDBT'])].cache_type.values[0],\n",
    "        'trace_file': l[0],\n",
    "        'cache_size': l[1],\n",
    "#         'label': l\n",
    "    })"
   ]
  },
  {
   "cell_type": "code",
   "execution_count": 408,
   "metadata": {},
   "outputs": [
    {
     "data": {
      "text/html": [
       "<div>\n",
       "<style scoped>\n",
       "    .dataframe tbody tr th:only-of-type {\n",
       "        vertical-align: middle;\n",
       "    }\n",
       "\n",
       "    .dataframe tbody tr th {\n",
       "        vertical-align: top;\n",
       "    }\n",
       "\n",
       "    .dataframe thead th {\n",
       "        text-align: right;\n",
       "    }\n",
       "</style>\n",
       "<table border=\"1\" class=\"dataframe\">\n",
       "  <thead>\n",
       "    <tr style=\"text-align: right;\">\n",
       "      <th></th>\n",
       "      <th>Belady</th>\n",
       "      <th>GDBT</th>\n",
       "      <th>LFUDA</th>\n",
       "      <th>LRU</th>\n",
       "      <th>SOA</th>\n",
       "      <th>SOA_alg</th>\n",
       "      <th>TLFU</th>\n",
       "      <th>cache_size</th>\n",
       "      <th>trace_file</th>\n",
       "      <th>type</th>\n",
       "      <th>miss_reduction</th>\n",
       "      <th>lru_reduction</th>\n",
       "      <th>tlfu_reduction</th>\n",
       "      <th>lfuda_reduction</th>\n",
       "    </tr>\n",
       "  </thead>\n",
       "  <tbody>\n",
       "    <tr>\n",
       "      <th>0</th>\n",
       "      <td>0.190569</td>\n",
       "      <td>0.272212</td>\n",
       "      <td>0.279852</td>\n",
       "      <td>0.293774</td>\n",
       "      <td>0.279852</td>\n",
       "      <td>LFUDA</td>\n",
       "      <td>0.289003</td>\n",
       "      <td>2.684355e+08</td>\n",
       "      <td>anonymous_200m.tr</td>\n",
       "      <td>nocdn</td>\n",
       "      <td>0.027300</td>\n",
       "      <td>0.073397</td>\n",
       "      <td>0.016241</td>\n",
       "      <td>0.047390</td>\n",
       "    </tr>\n",
       "    <tr>\n",
       "      <th>1</th>\n",
       "      <td>0.146875</td>\n",
       "      <td>0.215228</td>\n",
       "      <td>0.237805</td>\n",
       "      <td>0.246392</td>\n",
       "      <td>0.237805</td>\n",
       "      <td>LFUDA</td>\n",
       "      <td>0.241544</td>\n",
       "      <td>5.368709e+08</td>\n",
       "      <td>anonymous_200m.tr</td>\n",
       "      <td>nocdn</td>\n",
       "      <td>0.094939</td>\n",
       "      <td>0.126481</td>\n",
       "      <td>0.019674</td>\n",
       "      <td>0.034851</td>\n",
       "    </tr>\n",
       "    <tr>\n",
       "      <th>2</th>\n",
       "      <td>0.105677</td>\n",
       "      <td>0.158112</td>\n",
       "      <td>0.186179</td>\n",
       "      <td>0.187317</td>\n",
       "      <td>0.182793</td>\n",
       "      <td>Adaptive-TinyLFU</td>\n",
       "      <td>0.182793</td>\n",
       "      <td>1.073742e+09</td>\n",
       "      <td>anonymous_200m.tr</td>\n",
       "      <td>nocdn</td>\n",
       "      <td>0.135022</td>\n",
       "      <td>0.155912</td>\n",
       "      <td>0.024151</td>\n",
       "      <td>0.006075</td>\n",
       "    </tr>\n",
       "    <tr>\n",
       "      <th>3</th>\n",
       "      <td>0.069006</td>\n",
       "      <td>0.102502</td>\n",
       "      <td>0.130078</td>\n",
       "      <td>0.123786</td>\n",
       "      <td>0.121022</td>\n",
       "      <td>Adaptive-TinyLFU</td>\n",
       "      <td>0.121022</td>\n",
       "      <td>2.147484e+09</td>\n",
       "      <td>anonymous_200m.tr</td>\n",
       "      <td>nocdn</td>\n",
       "      <td>0.153027</td>\n",
       "      <td>0.171942</td>\n",
       "      <td>0.022332</td>\n",
       "      <td>-0.050830</td>\n",
       "    </tr>\n",
       "    <tr>\n",
       "      <th>4</th>\n",
       "      <td>0.044537</td>\n",
       "      <td>0.070210</td>\n",
       "      <td>0.084079</td>\n",
       "      <td>0.083813</td>\n",
       "      <td>0.083813</td>\n",
       "      <td>LRU</td>\n",
       "      <td>0.083879</td>\n",
       "      <td>4.294967e+09</td>\n",
       "      <td>anonymous_200m.tr</td>\n",
       "      <td>nocdn</td>\n",
       "      <td>0.162302</td>\n",
       "      <td>0.162302</td>\n",
       "      <td>-0.000793</td>\n",
       "      <td>-0.003174</td>\n",
       "    </tr>\n",
       "  </tbody>\n",
       "</table>\n",
       "</div>"
      ],
      "text/plain": [
       "     Belady      GDBT     LFUDA       LRU       SOA           SOA_alg  \\\n",
       "0  0.190569  0.272212  0.279852  0.293774  0.279852             LFUDA   \n",
       "1  0.146875  0.215228  0.237805  0.246392  0.237805             LFUDA   \n",
       "2  0.105677  0.158112  0.186179  0.187317  0.182793  Adaptive-TinyLFU   \n",
       "3  0.069006  0.102502  0.130078  0.123786  0.121022  Adaptive-TinyLFU   \n",
       "4  0.044537  0.070210  0.084079  0.083813  0.083813               LRU   \n",
       "\n",
       "       TLFU    cache_size         trace_file   type  miss_reduction  \\\n",
       "0  0.289003  2.684355e+08  anonymous_200m.tr  nocdn        0.027300   \n",
       "1  0.241544  5.368709e+08  anonymous_200m.tr  nocdn        0.094939   \n",
       "2  0.182793  1.073742e+09  anonymous_200m.tr  nocdn        0.135022   \n",
       "3  0.121022  2.147484e+09  anonymous_200m.tr  nocdn        0.153027   \n",
       "4  0.083879  4.294967e+09  anonymous_200m.tr  nocdn        0.162302   \n",
       "\n",
       "   lru_reduction  tlfu_reduction  lfuda_reduction  \n",
       "0       0.073397        0.016241         0.047390  \n",
       "1       0.126481        0.019674         0.034851  \n",
       "2       0.155912        0.024151         0.006075  \n",
       "3       0.171942        0.022332        -0.050830  \n",
       "4       0.162302       -0.000793        -0.003174  "
      ]
     },
     "execution_count": 408,
     "metadata": {},
     "output_type": "execute_result"
    }
   ],
   "source": [
    "df2 = pd.DataFrame(res)\n",
    "df2['miss_reduction'] = (df2['SOA'] - df2['GDBT'])/df2['SOA']\n",
    "df2['lru_reduction'] = (df2['LRU'] - df2['GDBT'])/df2['LRU']\n",
    "df2['tlfu_reduction'] = (df2['LRU'] - df2['TLFU'])/df2['LRU']\n",
    "df2['lfuda_reduction'] = (df2['LRU'] - df2['LFUDA'])/df2['LRU']\n",
    "\n",
    "df2.head()"
   ]
  },
  {
   "cell_type": "code",
   "execution_count": 441,
   "metadata": {},
   "outputs": [
    {
     "data": {
      "text/html": [
       "<div>\n",
       "<style scoped>\n",
       "    .dataframe tbody tr th:only-of-type {\n",
       "        vertical-align: middle;\n",
       "    }\n",
       "\n",
       "    .dataframe tbody tr th {\n",
       "        vertical-align: top;\n",
       "    }\n",
       "\n",
       "    .dataframe thead th {\n",
       "        text-align: right;\n",
       "    }\n",
       "</style>\n",
       "<table border=\"1\" class=\"dataframe\">\n",
       "  <thead>\n",
       "    <tr style=\"text-align: right;\">\n",
       "      <th></th>\n",
       "      <th>Belady</th>\n",
       "      <th>GDBT</th>\n",
       "      <th>LFUDA</th>\n",
       "      <th>LRU</th>\n",
       "      <th>SOA</th>\n",
       "      <th>TLFU</th>\n",
       "      <th>cache_size</th>\n",
       "      <th>trace_file</th>\n",
       "      <th>type</th>\n",
       "      <th>miss_reduction</th>\n",
       "      <th>lru_reduction</th>\n",
       "      <th>tlfu_reduction</th>\n",
       "      <th>lfuda_reduction</th>\n",
       "    </tr>\n",
       "    <tr>\n",
       "      <th>SOA_alg</th>\n",
       "      <th></th>\n",
       "      <th></th>\n",
       "      <th></th>\n",
       "      <th></th>\n",
       "      <th></th>\n",
       "      <th></th>\n",
       "      <th></th>\n",
       "      <th></th>\n",
       "      <th></th>\n",
       "      <th></th>\n",
       "      <th></th>\n",
       "      <th></th>\n",
       "      <th></th>\n",
       "    </tr>\n",
       "  </thead>\n",
       "  <tbody>\n",
       "    <tr>\n",
       "      <th>Adaptive-TinyLFU</th>\n",
       "      <td>22</td>\n",
       "      <td>22</td>\n",
       "      <td>22</td>\n",
       "      <td>22</td>\n",
       "      <td>22</td>\n",
       "      <td>22</td>\n",
       "      <td>22</td>\n",
       "      <td>22</td>\n",
       "      <td>22</td>\n",
       "      <td>22</td>\n",
       "      <td>22</td>\n",
       "      <td>22</td>\n",
       "      <td>22</td>\n",
       "    </tr>\n",
       "    <tr>\n",
       "      <th>LFUDA</th>\n",
       "      <td>12</td>\n",
       "      <td>12</td>\n",
       "      <td>12</td>\n",
       "      <td>12</td>\n",
       "      <td>12</td>\n",
       "      <td>12</td>\n",
       "      <td>12</td>\n",
       "      <td>12</td>\n",
       "      <td>12</td>\n",
       "      <td>12</td>\n",
       "      <td>12</td>\n",
       "      <td>12</td>\n",
       "      <td>12</td>\n",
       "    </tr>\n",
       "    <tr>\n",
       "      <th>LHD</th>\n",
       "      <td>2</td>\n",
       "      <td>2</td>\n",
       "      <td>2</td>\n",
       "      <td>2</td>\n",
       "      <td>2</td>\n",
       "      <td>2</td>\n",
       "      <td>2</td>\n",
       "      <td>2</td>\n",
       "      <td>2</td>\n",
       "      <td>2</td>\n",
       "      <td>2</td>\n",
       "      <td>2</td>\n",
       "      <td>2</td>\n",
       "    </tr>\n",
       "    <tr>\n",
       "      <th>LRU</th>\n",
       "      <td>1</td>\n",
       "      <td>1</td>\n",
       "      <td>1</td>\n",
       "      <td>1</td>\n",
       "      <td>1</td>\n",
       "      <td>1</td>\n",
       "      <td>1</td>\n",
       "      <td>1</td>\n",
       "      <td>1</td>\n",
       "      <td>1</td>\n",
       "      <td>1</td>\n",
       "      <td>1</td>\n",
       "      <td>1</td>\n",
       "    </tr>\n",
       "    <tr>\n",
       "      <th>LRUK</th>\n",
       "      <td>5</td>\n",
       "      <td>5</td>\n",
       "      <td>5</td>\n",
       "      <td>5</td>\n",
       "      <td>5</td>\n",
       "      <td>5</td>\n",
       "      <td>5</td>\n",
       "      <td>5</td>\n",
       "      <td>5</td>\n",
       "      <td>5</td>\n",
       "      <td>5</td>\n",
       "      <td>5</td>\n",
       "      <td>5</td>\n",
       "    </tr>\n",
       "    <tr>\n",
       "      <th>LeCaR</th>\n",
       "      <td>5</td>\n",
       "      <td>5</td>\n",
       "      <td>5</td>\n",
       "      <td>5</td>\n",
       "      <td>5</td>\n",
       "      <td>5</td>\n",
       "      <td>5</td>\n",
       "      <td>5</td>\n",
       "      <td>5</td>\n",
       "      <td>5</td>\n",
       "      <td>5</td>\n",
       "      <td>5</td>\n",
       "      <td>5</td>\n",
       "    </tr>\n",
       "    <tr>\n",
       "      <th>S4LRU</th>\n",
       "      <td>1</td>\n",
       "      <td>1</td>\n",
       "      <td>1</td>\n",
       "      <td>1</td>\n",
       "      <td>1</td>\n",
       "      <td>1</td>\n",
       "      <td>1</td>\n",
       "      <td>1</td>\n",
       "      <td>1</td>\n",
       "      <td>1</td>\n",
       "      <td>1</td>\n",
       "      <td>1</td>\n",
       "      <td>1</td>\n",
       "    </tr>\n",
       "  </tbody>\n",
       "</table>\n",
       "</div>"
      ],
      "text/plain": [
       "                  Belady  GDBT  LFUDA  LRU  SOA  TLFU  cache_size  trace_file  \\\n",
       "SOA_alg                                                                         \n",
       "Adaptive-TinyLFU      22    22     22   22   22    22          22          22   \n",
       "LFUDA                 12    12     12   12   12    12          12          12   \n",
       "LHD                    2     2      2    2    2     2           2           2   \n",
       "LRU                    1     1      1    1    1     1           1           1   \n",
       "LRUK                   5     5      5    5    5     5           5           5   \n",
       "LeCaR                  5     5      5    5    5     5           5           5   \n",
       "S4LRU                  1     1      1    1    1     1           1           1   \n",
       "\n",
       "                  type  miss_reduction  lru_reduction  tlfu_reduction  \\\n",
       "SOA_alg                                                                 \n",
       "Adaptive-TinyLFU    22              22             22              22   \n",
       "LFUDA               12              12             12              12   \n",
       "LHD                  2               2              2               2   \n",
       "LRU                  1               1              1               1   \n",
       "LRUK                 5               5              5               5   \n",
       "LeCaR                5               5              5               5   \n",
       "S4LRU                1               1              1               1   \n",
       "\n",
       "                  lfuda_reduction  \n",
       "SOA_alg                            \n",
       "Adaptive-TinyLFU               22  \n",
       "LFUDA                          12  \n",
       "LHD                             2  \n",
       "LRU                             1  \n",
       "LRUK                            5  \n",
       "LeCaR                           5  \n",
       "S4LRU                           1  "
      ]
     },
     "execution_count": 441,
     "metadata": {},
     "output_type": "execute_result"
    }
   ],
   "source": [
    "df2.groupby('SOA_alg').count()"
   ]
  },
  {
   "cell_type": "code",
   "execution_count": 440,
   "metadata": {},
   "outputs": [
    {
     "data": {
      "text/html": [
       "<div>\n",
       "<style scoped>\n",
       "    .dataframe tbody tr th:only-of-type {\n",
       "        vertical-align: middle;\n",
       "    }\n",
       "\n",
       "    .dataframe tbody tr th {\n",
       "        vertical-align: top;\n",
       "    }\n",
       "\n",
       "    .dataframe thead th {\n",
       "        text-align: right;\n",
       "    }\n",
       "</style>\n",
       "<table border=\"1\" class=\"dataframe\">\n",
       "  <thead>\n",
       "    <tr style=\"text-align: right;\">\n",
       "      <th></th>\n",
       "      <th>Belady</th>\n",
       "      <th>GDBT</th>\n",
       "      <th>LFUDA</th>\n",
       "      <th>LRU</th>\n",
       "      <th>SOA</th>\n",
       "      <th>TLFU</th>\n",
       "      <th>cache_size</th>\n",
       "      <th>trace_file</th>\n",
       "      <th>type</th>\n",
       "      <th>miss_reduction</th>\n",
       "      <th>lru_reduction</th>\n",
       "      <th>tlfu_reduction</th>\n",
       "      <th>lfuda_reduction</th>\n",
       "    </tr>\n",
       "    <tr>\n",
       "      <th>SOA_alg</th>\n",
       "      <th></th>\n",
       "      <th></th>\n",
       "      <th></th>\n",
       "      <th></th>\n",
       "      <th></th>\n",
       "      <th></th>\n",
       "      <th></th>\n",
       "      <th></th>\n",
       "      <th></th>\n",
       "      <th></th>\n",
       "      <th></th>\n",
       "      <th></th>\n",
       "      <th></th>\n",
       "    </tr>\n",
       "  </thead>\n",
       "  <tbody>\n",
       "    <tr>\n",
       "      <th>Adaptive-TinyLFU</th>\n",
       "      <td>12</td>\n",
       "      <td>12</td>\n",
       "      <td>12</td>\n",
       "      <td>12</td>\n",
       "      <td>12</td>\n",
       "      <td>12</td>\n",
       "      <td>12</td>\n",
       "      <td>12</td>\n",
       "      <td>12</td>\n",
       "      <td>12</td>\n",
       "      <td>12</td>\n",
       "      <td>12</td>\n",
       "      <td>12</td>\n",
       "    </tr>\n",
       "    <tr>\n",
       "      <th>LFUDA</th>\n",
       "      <td>5</td>\n",
       "      <td>5</td>\n",
       "      <td>5</td>\n",
       "      <td>5</td>\n",
       "      <td>5</td>\n",
       "      <td>5</td>\n",
       "      <td>5</td>\n",
       "      <td>5</td>\n",
       "      <td>5</td>\n",
       "      <td>5</td>\n",
       "      <td>5</td>\n",
       "      <td>5</td>\n",
       "      <td>5</td>\n",
       "    </tr>\n",
       "    <tr>\n",
       "      <th>LRUK</th>\n",
       "      <td>3</td>\n",
       "      <td>3</td>\n",
       "      <td>3</td>\n",
       "      <td>3</td>\n",
       "      <td>3</td>\n",
       "      <td>3</td>\n",
       "      <td>3</td>\n",
       "      <td>3</td>\n",
       "      <td>3</td>\n",
       "      <td>3</td>\n",
       "      <td>3</td>\n",
       "      <td>3</td>\n",
       "      <td>3</td>\n",
       "    </tr>\n",
       "    <tr>\n",
       "      <th>LeCaR</th>\n",
       "      <td>3</td>\n",
       "      <td>3</td>\n",
       "      <td>3</td>\n",
       "      <td>3</td>\n",
       "      <td>3</td>\n",
       "      <td>3</td>\n",
       "      <td>3</td>\n",
       "      <td>3</td>\n",
       "      <td>3</td>\n",
       "      <td>3</td>\n",
       "      <td>3</td>\n",
       "      <td>3</td>\n",
       "      <td>3</td>\n",
       "    </tr>\n",
       "    <tr>\n",
       "      <th>S4LRU</th>\n",
       "      <td>1</td>\n",
       "      <td>1</td>\n",
       "      <td>1</td>\n",
       "      <td>1</td>\n",
       "      <td>1</td>\n",
       "      <td>1</td>\n",
       "      <td>1</td>\n",
       "      <td>1</td>\n",
       "      <td>1</td>\n",
       "      <td>1</td>\n",
       "      <td>1</td>\n",
       "      <td>1</td>\n",
       "      <td>1</td>\n",
       "    </tr>\n",
       "  </tbody>\n",
       "</table>\n",
       "</div>"
      ],
      "text/plain": [
       "                  Belady  GDBT  LFUDA  LRU  SOA  TLFU  cache_size  trace_file  \\\n",
       "SOA_alg                                                                         \n",
       "Adaptive-TinyLFU      12    12     12   12   12    12          12          12   \n",
       "LFUDA                  5     5      5    5    5     5           5           5   \n",
       "LRUK                   3     3      3    3    3     3           3           3   \n",
       "LeCaR                  3     3      3    3    3     3           3           3   \n",
       "S4LRU                  1     1      1    1    1     1           1           1   \n",
       "\n",
       "                  type  miss_reduction  lru_reduction  tlfu_reduction  \\\n",
       "SOA_alg                                                                 \n",
       "Adaptive-TinyLFU    12              12             12              12   \n",
       "LFUDA                5               5              5               5   \n",
       "LRUK                 3               3              3               3   \n",
       "LeCaR                3               3              3               3   \n",
       "S4LRU                1               1              1               1   \n",
       "\n",
       "                  lfuda_reduction  \n",
       "SOA_alg                            \n",
       "Adaptive-TinyLFU               12  \n",
       "LFUDA                           5  \n",
       "LRUK                            3  \n",
       "LeCaR                           3  \n",
       "S4LRU                           1  "
      ]
     },
     "execution_count": 440,
     "metadata": {},
     "output_type": "execute_result"
    }
   ],
   "source": [
    "df2[(df2.type == 'cdn')].groupby('SOA_alg').count()"
   ]
  },
  {
   "cell_type": "code",
   "execution_count": 444,
   "metadata": {},
   "outputs": [
    {
     "data": {
      "text/plain": [
       "11"
      ]
     },
     "execution_count": 444,
     "metadata": {},
     "output_type": "execute_result"
    }
   ],
   "source": [
    "(df2['lfuda_reduction']<0).sum()"
   ]
  },
  {
   "cell_type": "code",
   "execution_count": 445,
   "metadata": {},
   "outputs": [
    {
     "data": {
      "text/plain": [
       "-0.20794744911314147"
      ]
     },
     "execution_count": 445,
     "metadata": {},
     "output_type": "execute_result"
    }
   ],
   "source": [
    "df2['lfuda_reduction'].min()"
   ]
  },
  {
   "cell_type": "code",
   "execution_count": 426,
   "metadata": {},
   "outputs": [
    {
     "data": {
      "text/plain": [
       "18"
      ]
     },
     "execution_count": 426,
     "metadata": {},
     "output_type": "execute_result"
    }
   ],
   "source": [
    "((df2.type == 'nocdn') & (df2.GDBT <= df2.SOA)).sum()"
   ]
  },
  {
   "cell_type": "code",
   "execution_count": 432,
   "metadata": {},
   "outputs": [
    {
     "data": {
      "text/plain": [
       "0.1008917654489101"
      ]
     },
     "execution_count": 432,
     "metadata": {},
     "output_type": "execute_result"
    }
   ],
   "source": [
    "df2[df2.type == 'nocdn'].lru_reduction.median()"
   ]
  },
  {
   "cell_type": "code",
   "execution_count": 433,
   "metadata": {},
   "outputs": [
    {
     "data": {
      "text/plain": [
       "0.3410090472449236"
      ]
     },
     "execution_count": 433,
     "metadata": {},
     "output_type": "execute_result"
    }
   ],
   "source": [
    "df2[df2.type == 'nocdn'].lru_reduction.max()"
   ]
  },
  {
   "cell_type": "code",
   "execution_count": 438,
   "metadata": {},
   "outputs": [
    {
     "data": {
      "text/plain": [
       "0.02100319464377773"
      ]
     },
     "execution_count": 438,
     "metadata": {},
     "output_type": "execute_result"
    }
   ],
   "source": [
    "df2[df2.type == 'nocdn'].tlfu_reduction.median()"
   ]
  },
  {
   "cell_type": "code",
   "execution_count": 439,
   "metadata": {},
   "outputs": [
    {
     "data": {
      "text/plain": [
       "0     0.016241\n",
       "1     0.019674\n",
       "2     0.024151\n",
       "3     0.022332\n",
       "4    -0.000793\n",
       "5     0.003815\n",
       "6     0.012461\n",
       "7     0.018689\n",
       "8     0.032076\n",
       "9     0.030994\n",
       "10    0.088743\n",
       "11    0.040796\n",
       "12    0.060255\n",
       "13    0.036166\n",
       "14    0.036585\n",
       "15   -0.044057\n",
       "16    0.010176\n",
       "17   -0.002466\n",
       "18   -0.003606\n",
       "19    0.013882\n",
       "20    0.016578\n",
       "21    0.135007\n",
       "22    0.178256\n",
       "23    0.100328\n",
       "Name: tlfu_reduction, dtype: float64"
      ]
     },
     "execution_count": 439,
     "metadata": {},
     "output_type": "execute_result"
    }
   ],
   "source": [
    "df2[df2.type == 'nocdn'].tlfu_reduction"
   ]
  },
  {
   "cell_type": "code",
   "execution_count": 435,
   "metadata": {},
   "outputs": [
    {
     "data": {
      "text/plain": [
       "0.02100319464377773"
      ]
     },
     "execution_count": 435,
     "metadata": {},
     "output_type": "execute_result"
    }
   ],
   "source": [
    "df2[df2.type == 'nocdn'].tlfu_reduction.median()"
   ]
  },
  {
   "cell_type": "code",
   "execution_count": 436,
   "metadata": {},
   "outputs": [
    {
     "data": {
      "text/plain": [
       "0.0069637857110050015"
      ]
     },
     "execution_count": 436,
     "metadata": {},
     "output_type": "execute_result"
    }
   ],
   "source": [
    "df2[df2.type == 'nocdn'].lfuda_reduction.median()"
   ]
  },
  {
   "cell_type": "code",
   "execution_count": 428,
   "metadata": {},
   "outputs": [
    {
     "data": {
      "text/html": [
       "<div>\n",
       "<style scoped>\n",
       "    .dataframe tbody tr th:only-of-type {\n",
       "        vertical-align: middle;\n",
       "    }\n",
       "\n",
       "    .dataframe tbody tr th {\n",
       "        vertical-align: top;\n",
       "    }\n",
       "\n",
       "    .dataframe thead th {\n",
       "        text-align: right;\n",
       "    }\n",
       "</style>\n",
       "<table border=\"1\" class=\"dataframe\">\n",
       "  <thead>\n",
       "    <tr style=\"text-align: right;\">\n",
       "      <th></th>\n",
       "      <th>Belady</th>\n",
       "      <th>GDBT</th>\n",
       "      <th>LFUDA</th>\n",
       "      <th>LRU</th>\n",
       "      <th>SOA</th>\n",
       "      <th>SOA_alg</th>\n",
       "      <th>TLFU</th>\n",
       "      <th>cache_size</th>\n",
       "      <th>trace_file</th>\n",
       "      <th>type</th>\n",
       "      <th>miss_reduction</th>\n",
       "      <th>lru_reduction</th>\n",
       "      <th>tlfu_reduction</th>\n",
       "      <th>lfuda_reduction</th>\n",
       "    </tr>\n",
       "  </thead>\n",
       "  <tbody>\n",
       "    <tr>\n",
       "      <th>7</th>\n",
       "      <td>0.011479</td>\n",
       "      <td>0.019541</td>\n",
       "      <td>0.018942</td>\n",
       "      <td>0.020113</td>\n",
       "      <td>0.018942</td>\n",
       "      <td>LFUDA</td>\n",
       "      <td>0.019737</td>\n",
       "      <td>3.435974e+10</td>\n",
       "      <td>anonymous_200m.tr</td>\n",
       "      <td>nocdn</td>\n",
       "      <td>-0.031623</td>\n",
       "      <td>0.028439</td>\n",
       "      <td>0.018689</td>\n",
       "      <td>0.058221</td>\n",
       "    </tr>\n",
       "    <tr>\n",
       "      <th>15</th>\n",
       "      <td>0.034083</td>\n",
       "      <td>0.044909</td>\n",
       "      <td>0.044971</td>\n",
       "      <td>0.042991</td>\n",
       "      <td>0.042971</td>\n",
       "      <td>LeCaR</td>\n",
       "      <td>0.044885</td>\n",
       "      <td>8.589935e+09</td>\n",
       "      <td>memc_200m.tr</td>\n",
       "      <td>nocdn</td>\n",
       "      <td>-0.045100</td>\n",
       "      <td>-0.044614</td>\n",
       "      <td>-0.044057</td>\n",
       "      <td>-0.046056</td>\n",
       "    </tr>\n",
       "    <tr>\n",
       "      <th>16</th>\n",
       "      <td>0.522709</td>\n",
       "      <td>0.556659</td>\n",
       "      <td>0.556010</td>\n",
       "      <td>0.561984</td>\n",
       "      <td>0.556010</td>\n",
       "      <td>LFUDA</td>\n",
       "      <td>0.556265</td>\n",
       "      <td>4.294967e+09</td>\n",
       "      <td>msr_rehash_200m.tr</td>\n",
       "      <td>nocdn</td>\n",
       "      <td>-0.001167</td>\n",
       "      <td>0.009475</td>\n",
       "      <td>0.010176</td>\n",
       "      <td>0.010630</td>\n",
       "    </tr>\n",
       "    <tr>\n",
       "      <th>17</th>\n",
       "      <td>0.513634</td>\n",
       "      <td>0.549975</td>\n",
       "      <td>0.548099</td>\n",
       "      <td>0.548221</td>\n",
       "      <td>0.546594</td>\n",
       "      <td>LRUK</td>\n",
       "      <td>0.549573</td>\n",
       "      <td>8.589935e+09</td>\n",
       "      <td>msr_rehash_200m.tr</td>\n",
       "      <td>nocdn</td>\n",
       "      <td>-0.006186</td>\n",
       "      <td>-0.003199</td>\n",
       "      <td>-0.002466</td>\n",
       "      <td>0.000223</td>\n",
       "    </tr>\n",
       "    <tr>\n",
       "      <th>18</th>\n",
       "      <td>0.500530</td>\n",
       "      <td>0.541961</td>\n",
       "      <td>0.539889</td>\n",
       "      <td>0.542648</td>\n",
       "      <td>0.537352</td>\n",
       "      <td>LRUK</td>\n",
       "      <td>0.544605</td>\n",
       "      <td>1.717987e+10</td>\n",
       "      <td>msr_rehash_200m.tr</td>\n",
       "      <td>nocdn</td>\n",
       "      <td>-0.008577</td>\n",
       "      <td>0.001266</td>\n",
       "      <td>-0.003606</td>\n",
       "      <td>0.005084</td>\n",
       "    </tr>\n",
       "    <tr>\n",
       "      <th>23</th>\n",
       "      <td>0.123719</td>\n",
       "      <td>0.243799</td>\n",
       "      <td>0.293503</td>\n",
       "      <td>0.303603</td>\n",
       "      <td>0.232490</td>\n",
       "      <td>LHD</td>\n",
       "      <td>0.273143</td>\n",
       "      <td>5.497558e+11</td>\n",
       "      <td>msr_rehash_200m.tr</td>\n",
       "      <td>nocdn</td>\n",
       "      <td>-0.048643</td>\n",
       "      <td>0.196981</td>\n",
       "      <td>0.100328</td>\n",
       "      <td>0.033267</td>\n",
       "    </tr>\n",
       "  </tbody>\n",
       "</table>\n",
       "</div>"
      ],
      "text/plain": [
       "      Belady      GDBT     LFUDA       LRU       SOA SOA_alg      TLFU  \\\n",
       "7   0.011479  0.019541  0.018942  0.020113  0.018942   LFUDA  0.019737   \n",
       "15  0.034083  0.044909  0.044971  0.042991  0.042971   LeCaR  0.044885   \n",
       "16  0.522709  0.556659  0.556010  0.561984  0.556010   LFUDA  0.556265   \n",
       "17  0.513634  0.549975  0.548099  0.548221  0.546594    LRUK  0.549573   \n",
       "18  0.500530  0.541961  0.539889  0.542648  0.537352    LRUK  0.544605   \n",
       "23  0.123719  0.243799  0.293503  0.303603  0.232490     LHD  0.273143   \n",
       "\n",
       "      cache_size          trace_file   type  miss_reduction  lru_reduction  \\\n",
       "7   3.435974e+10   anonymous_200m.tr  nocdn       -0.031623       0.028439   \n",
       "15  8.589935e+09        memc_200m.tr  nocdn       -0.045100      -0.044614   \n",
       "16  4.294967e+09  msr_rehash_200m.tr  nocdn       -0.001167       0.009475   \n",
       "17  8.589935e+09  msr_rehash_200m.tr  nocdn       -0.006186      -0.003199   \n",
       "18  1.717987e+10  msr_rehash_200m.tr  nocdn       -0.008577       0.001266   \n",
       "23  5.497558e+11  msr_rehash_200m.tr  nocdn       -0.048643       0.196981   \n",
       "\n",
       "    tlfu_reduction  lfuda_reduction  \n",
       "7         0.018689         0.058221  \n",
       "15       -0.044057        -0.046056  \n",
       "16        0.010176         0.010630  \n",
       "17       -0.002466         0.000223  \n",
       "18       -0.003606         0.005084  \n",
       "23        0.100328         0.033267  "
      ]
     },
     "execution_count": 428,
     "metadata": {},
     "output_type": "execute_result"
    }
   ],
   "source": [
    "df2[((df2.type == 'nocdn') & (df2.GDBT > df2.SOA))]"
   ]
  },
  {
   "cell_type": "code",
   "execution_count": 422,
   "metadata": {},
   "outputs": [
    {
     "data": {
      "text/plain": [
       "0.09305370933628807"
      ]
     },
     "execution_count": 422,
     "metadata": {},
     "output_type": "execute_result"
    }
   ],
   "source": [
    "df2[(df2.type == 'cdn')].lru_reduction.median()"
   ]
  },
  {
   "cell_type": "code",
   "execution_count": 423,
   "metadata": {},
   "outputs": [
    {
     "data": {
      "text/plain": [
       "0.04174040074332141"
      ]
     },
     "execution_count": 423,
     "metadata": {},
     "output_type": "execute_result"
    }
   ],
   "source": [
    "df2[(df2.type == 'cdn')].tlfu_reduction.median()"
   ]
  },
  {
   "cell_type": "code",
   "execution_count": 410,
   "metadata": {},
   "outputs": [
    {
     "data": {
      "text/plain": [
       "48"
      ]
     },
     "execution_count": 410,
     "metadata": {},
     "output_type": "execute_result"
    }
   ],
   "source": [
    "len(df2)"
   ]
  },
  {
   "cell_type": "code",
   "execution_count": 418,
   "metadata": {},
   "outputs": [
    {
     "data": {
      "text/plain": [
       "48"
      ]
     },
     "execution_count": 418,
     "metadata": {},
     "output_type": "execute_result"
    }
   ],
   "source": [
    "len(df2)"
   ]
  },
  {
   "cell_type": "code",
   "execution_count": 417,
   "metadata": {},
   "outputs": [
    {
     "data": {
      "text/plain": [
       "39"
      ]
     },
     "execution_count": 417,
     "metadata": {},
     "output_type": "execute_result"
    }
   ],
   "source": [
    "sum(df2['GDBT'] <= df2['SOA'])"
   ]
  },
  {
   "cell_type": "code",
   "execution_count": 411,
   "metadata": {},
   "outputs": [
    {
     "data": {
      "text/plain": [
       "30"
      ]
     },
     "execution_count": 411,
     "metadata": {},
     "output_type": "execute_result"
    }
   ],
   "source": [
    "len(df2[df2['LFUDA'] > df2['TLFU']])"
   ]
  },
  {
   "cell_type": "code",
   "execution_count": 412,
   "metadata": {},
   "outputs": [
    {
     "data": {
      "text/plain": [
       "18"
      ]
     },
     "execution_count": 412,
     "metadata": {},
     "output_type": "execute_result"
    }
   ],
   "source": [
    "len(df2[df2['LFUDA'] < df2['TLFU']])"
   ]
  },
  {
   "cell_type": "code",
   "execution_count": 413,
   "metadata": {},
   "outputs": [
    {
     "data": {
      "text/plain": [
       "12"
      ]
     },
     "execution_count": 413,
     "metadata": {},
     "output_type": "execute_result"
    }
   ],
   "source": [
    "len(df2[df2.SOA_alg == 'LFUDA'])"
   ]
  },
  {
   "cell_type": "code",
   "execution_count": 414,
   "metadata": {},
   "outputs": [
    {
     "data": {
      "text/plain": [
       "22"
      ]
     },
     "execution_count": 414,
     "metadata": {},
     "output_type": "execute_result"
    }
   ],
   "source": [
    "len(df2[df2.SOA_alg == 'Adaptive-TinyLFU'])"
   ]
  },
  {
   "cell_type": "code",
   "execution_count": 402,
   "metadata": {},
   "outputs": [],
   "source": [
    "FONT_SIZE = 25\n",
    "plt.rc('font', size=FONT_SIZE)          # controls default text sizes\n",
    "plt.rc('axes', titlesize=FONT_SIZE)     # fontsize of the axes title\n",
    "plt.rc('axes', labelsize=FONT_SIZE)    # fontsize of the x and y labels\n",
    "plt.rc('xtick', labelsize=FONT_SIZE)    # fontsize of the tick labels\n",
    "plt.rc('ytick', labelsize=FONT_SIZE)    # fontsize of the tick labels\n",
    "plt.rc('legend', fontsize=FONT_SIZE)    # legend fontsize\n",
    "plt.rc('figure', titlesize=FONT_SIZE)  # fontsize of the figure title\n",
    "matplotlib.rc('lines', linewidth=3)"
   ]
  },
  {
   "cell_type": "code",
   "execution_count": 404,
   "metadata": {},
   "outputs": [
    {
     "data": {
      "image/png": "[encoded data removed]",
      "text/plain": [
       "<Figure size 864x576 with 1 Axes>"
      ]
     },
     "metadata": {
      "needs_background": "light"
     },
     "output_type": "display_data"
    }
   ],
   "source": [
    "fig, ax = plt.subplots(figsize=(12, 8))\n",
    "width = 0.04\n",
    "interval_bar = 0.01\n",
    "interval_trace = 0.1\n",
    "offsets_bar = np.arange(n_csizes)*(width+interval_bar)*2\n",
    "offset_trace = 2*n_csizes*(interval_bar+width)+interval_trace\n",
    "\n",
    "trace_names = (\n",
    "    'wc400m.tr',\n",
    "    'traceHK.tr',\n",
    "    'traceUS.tr',\n",
    "    'memc_200m.tr',\n",
    "    'msr_rehash_200m.tr',\n",
    "    'anonymous_200m.tr',\n",
    ")\n",
    "trace_labels = [trace_map[t] for t in trace_names]\n",
    "\n",
    "for i, trace in enumerate(trace_names):\n",
    "    grp = df2[df2.trace_file == trace]\n",
    "    grp = grp.sort_values('cache_size')\n",
    "    if i == 0:\n",
    "        ax.bar(i*offset_trace+offsets_bar,\n",
    "           grp.lru_reduction*100,\n",
    "           width,\n",
    "           color=color_map['GDBT'],\n",
    "           edgecolor='k',\n",
    "           alpha=0.8,\n",
    "           label='GBDT')\n",
    "    else: \n",
    "        ax.bar(i*offset_trace+offsets_bar,\n",
    "           grp.lru_reduction*100,\n",
    "           width,\n",
    "           color=color_map['GDBT'],\n",
    "           edgecolor='k',\n",
    "           alpha=0.8)\n",
    "\n",
    "for i, trace in enumerate(trace_names):\n",
    "    grp = df2[df2.trace_file == trace]\n",
    "    grp = grp.sort_values('cache_size')\n",
    "    if i == 0:\n",
    "        ax.bar(i*offset_trace+offsets_bar+interval_bar+width,\n",
    "               grp.tlfu_reduction*100,\n",
    "               width,\n",
    "               color=color_map['Adaptive-TinyLFU'],\n",
    "               edgecolor='k',\n",
    "               alpha=0.8,\n",
    "               label='TinyLFU')    \n",
    "    else:\n",
    "        ax.bar(i*offset_trace+offsets_bar+interval_bar+width,\n",
    "               grp.tlfu_reduction*100,\n",
    "               width,\n",
    "               color=color_map['Adaptive-TinyLFU'],\n",
    "               edgecolor='k',\n",
    "               alpha=0.8)    \n",
    "\n",
    "ax.set_xticks(np.arange(len(trace_names))+0.45)\n",
    "ax.set_xticklabels(trace_labels) \n",
    "ax.spines['right'].set_visible(False)\n",
    "ax.spines['top'].set_visible(False)\n",
    "plt.xlabel('Traces / Cache Sizes (Ascend Order)')\n",
    "plt.ylabel('Byte Miss Rate Relative to LRU (%)')\n",
    "plt.ylim([-25, 25])\n",
    "plt.legend()\n",
    "plt.savefig(f\"{fig_dir}/evaluation_gbdt-tlfu_lru.pdf\",\n",
    "        bbox_inches = 'tight', \n",
    "        pad_inches = 0)\n",
    "# plt.title('GBDT')\n",
    "plt.show()"
   ]
  },
  {
   "cell_type": "code",
   "execution_count": 405,
   "metadata": {},
   "outputs": [
    {
     "data": {
      "image/png": "[encoded data removed]",
      "text/plain": [
       "<Figure size 864x576 with 1 Axes>"
      ]
     },
     "metadata": {
      "needs_background": "light"
     },
     "output_type": "display_data"
    }
   ],
   "source": [
    "fig, ax = plt.subplots(figsize=(12, 8))\n",
    "width = 0.08\n",
    "offsets = np.arange(n_csizes)*(width+0.02)\n",
    "\n",
    "trace_names = (\n",
    "    'wc400m.tr',\n",
    "    'traceHK.tr',\n",
    "    'traceUS.tr',\n",
    "    'memc_200m.tr',\n",
    "    'msr_rehash_200m.tr',\n",
    "    'anonymous_200m.tr',\n",
    ")\n",
    "trace_labels = [trace_map[t] for t in trace_names]\n",
    "\n",
    "for i, trace in enumerate(trace_names):\n",
    "    grp = df2[df2.trace_file == trace]\n",
    "    grp = grp.sort_values('cache_size')\n",
    "    ax.bar(i+offsets,\n",
    "           grp.lfuda_reduction*100,\n",
    "           width,\n",
    "           color=color_map['LFUDA'],\n",
    "           edgecolor='k',\n",
    "           alpha=0.8,\n",
    "           label=trace)\n",
    "    \n",
    "ax.set_xticks(np.arange(len(trace_names))+0.45)\n",
    "ax.set_xticklabels(trace_labels) \n",
    "ax.spines['right'].set_visible(False)\n",
    "ax.spines['top'].set_visible(False)\n",
    "plt.xlabel('Traces / Cache Sizes (Ascend Order)')\n",
    "plt.ylabel('Byte Miss Rate Relative to LRU (%)')\n",
    "plt.ylim([-25, 25])\n",
    "plt.savefig(f\"{fig_dir}/evaluation_lfuda_lru.pdf\",\n",
    "        bbox_inches = 'tight', \n",
    "        pad_inches = 0)\n",
    "# plt.title('LFUDA')\n",
    "plt.show()"
   ]
  },
  {
   "cell_type": "code",
   "execution_count": 367,
   "metadata": {},
   "outputs": [
    {
     "data": {
      "image/png": "[encoded data removed]",
      "text/plain": [
       "<Figure size 864x576 with 1 Axes>"
      ]
     },
     "metadata": {
      "needs_background": "light"
     },
     "output_type": "display_data"
    }
   ],
   "source": [
    "# fig, ax = plt.subplots(figsize=(12, 8))\n",
    "# width = 0.08\n",
    "# offsets = np.arange(9)*(width+0.02)\n",
    "\n",
    "# trace_names = (\n",
    "#     'wc400m.tr',\n",
    "#     'traceHK.tr',\n",
    "#     'traceUS.tr',\n",
    "#     'memc_200m.tr',\n",
    "#     'msr_rehash_200m.tr',\n",
    "#     'anonymous_200m.tr',\n",
    "# )\n",
    "# trace_labels = [trace_map[t] for t in trace_names]\n",
    "\n",
    "# for i, trace in enumerate(trace_names):\n",
    "#     grp = df2[df2.trace_file == trace]\n",
    "#     grp = grp.sort_values('cache_size')\n",
    "#     ax.bar(i+offsets,\n",
    "#            grp.tlfu_reduction*100,\n",
    "#            width,\n",
    "#            color='r',\n",
    "#            edgecolor='k',\n",
    "#            alpha=0.8,\n",
    "#            label=trace)\n",
    "    \n",
    "# ax.set_xticks(np.arange(len(trace_names))+0.45)\n",
    "# ax.set_xticklabels(trace_labels) \n",
    "# ax.spines['right'].set_visible(False)\n",
    "# ax.spines['top'].set_visible(False)\n",
    "# plt.xlabel('Traces / Cache Sizes (Ascend Order)')\n",
    "# plt.ylabel('Relative Traffic Reduction (%)')\n",
    "# plt.savefig(f\"{fig_dir}/evaluation_relative_traffic_reduction.pdf\",\n",
    "#         bbox_inches = 'tight', \n",
    "#         pad_inches = 0)\n",
    "# plt.ylim([-25, 25])\n",
    "# plt.title('TLFU')\n",
    "# plt.show()"
   ]
  },
  {
   "cell_type": "code",
   "execution_count": null,
   "metadata": {},
   "outputs": [],
   "source": []
  }
 ],
 "metadata": {
  "kernelspec": {
   "display_name": "webcachesim",
   "language": "python",
   "name": "webcachesim_env"
  },
  "language_info": {
   "codemirror_mode": {
    "name": "ipython",
    "version": 3
   },
   "file_extension": ".py",
   "mimetype": "text/x-python",
   "name": "python",
   "nbconvert_exporter": "python",
   "pygments_lexer": "ipython3",
   "version": "3.6.7"
  }
 },
 "nbformat": 4,
 "nbformat_minor": 2
}
