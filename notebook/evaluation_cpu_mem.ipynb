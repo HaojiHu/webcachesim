{
 "cells": [
  {
   "cell_type": "code",
   "execution_count": 99,
   "metadata": {},
   "outputs": [],
   "source": [
    "%matplotlib inline\n",
    "import pandas as pd\n",
    "import numpy as np\n",
    "\n",
    "import matplotlib.pyplot as plt\n",
    "import matplotlib\n",
    "import seaborn as sns\n",
    "from glob import glob\n",
    "import pathlib\n",
    "import common\n",
    "\n",
    "FONT_SIZE = 15\n",
    "plt.rc('font', size=FONT_SIZE)          # controls default text sizes\n",
    "plt.rc('axes', titlesize=FONT_SIZE)     # fontsize of the axes title\n",
    "plt.rc('axes', labelsize=FONT_SIZE)    # fontsize of the x and y labels\n",
    "plt.rc('xtick', labelsize=FONT_SIZE)    # fontsize of the tick labels\n",
    "plt.rc('ytick', labelsize=FONT_SIZE)    # fontsize of the tick labels\n",
    "plt.rc('legend', fontsize=FONT_SIZE)    # legend fontsize\n",
    "plt.rc('figure', titlesize=FONT_SIZE)  # fontsize of the figure title\n",
    "matplotlib.rc('lines', linewidth=3)"
   ]
  },
  {
   "cell_type": "code",
   "execution_count": 137,
   "metadata": {},
   "outputs": [],
   "source": [
    "data_prefix = '/data/zhenyus/webcachesim/ats_log'\n",
    "sleep_time = 15.\n",
    "max_log2_client = 8\n",
    "n_client = 256\n",
    "size = '128G'\n",
    "# algs = ['fifo', 'lru', 'static']\n",
    "algs = ['fifo', 'gbdt']\n",
    "unit = 'm' \n",
    "means = [0, 300]\n",
    "gbdt_version = '_fix_mem'"
   ]
  },
  {
   "cell_type": "code",
   "execution_count": 148,
   "metadata": {},
   "outputs": [],
   "source": [
    "res = []\n",
    "for mean in means:\n",
    "    for alg in algs:\n",
    "        if alg == 'gbdt' and mean == 0:\n",
    "            df = pd.read_csv(f'{data_prefix}/top_{unit}_{alg}_{size}_{mean}{gbdt_version}.log.awk', names=['VIRT', 'RES', 'CPU'], delimiter=' ')\n",
    "        else:\n",
    "            df = pd.read_csv(f'{data_prefix}/top_{unit}_{alg}_{size}_{mean}.log.awk', names=['VIRT', 'RES', 'CPU'], delimiter=' ')\n",
    "        df['alg'] = alg\n",
    "        df['mean'] = mean\n",
    "        res.append(df)\n",
    "df = pd.concat(res)"
   ]
  },
  {
   "cell_type": "code",
   "execution_count": 149,
   "metadata": {},
   "outputs": [],
   "source": [
    "# df2 = df[df['alg'] == 'gbdt']\n",
    "df.loc[(df['alg'] == 'gbdt') & (df['mean'] == 300), 'VIRT'] = df[(df['alg'] == 'gbdt') & (df['mean'] == 300)]['VIRT'].apply(lambda x: float(x[:-1]))"
   ]
  },
  {
   "cell_type": "code",
   "execution_count": 150,
   "metadata": {},
   "outputs": [],
   "source": [
    "df.loc[(df['alg'] == 'gbdt') & (df['mean'] == 0), 'VIRT'] = df[(df['alg'] == 'gbdt') & (df['mean'] == 0)]['VIRT']/1024.**2"
   ]
  },
  {
   "cell_type": "code",
   "execution_count": 151,
   "metadata": {},
   "outputs": [],
   "source": [
    "df.loc[df['alg'] == 'fifo', 'VIRT'] = df[df['alg'] == 'fifo']['VIRT']/1024.**2"
   ]
  },
  {
   "cell_type": "code",
   "execution_count": 152,
   "metadata": {},
   "outputs": [
    {
     "name": "stdout",
     "output_type": "stream",
     "text": [
      "('fifo', 0) 536.9, 5.256099700927734\n",
      "('fifo', 300) 99.3, 5.197685241699219\n",
      "('gbdt', 0) 1164.0, 8.403331756591797\n",
      "('gbdt', 300) 250.5, 16.7\n"
     ]
    }
   ],
   "source": [
    "for l, grp in df.groupby(['alg', 'mean']):\n",
    "    print(f'{l} {grp.CPU.max()}, {grp.VIRT.max()}')"
   ]
  },
  {
   "cell_type": "code",
   "execution_count": 155,
   "metadata": {},
   "outputs": [
    {
     "data": {
      "text/html": [
       "<div>\n",
       "<style scoped>\n",
       "    .dataframe tbody tr th:only-of-type {\n",
       "        vertical-align: middle;\n",
       "    }\n",
       "\n",
       "    .dataframe tbody tr th {\n",
       "        vertical-align: top;\n",
       "    }\n",
       "\n",
       "    .dataframe thead th {\n",
       "        text-align: right;\n",
       "    }\n",
       "</style>\n",
       "<table border=\"1\" class=\"dataframe\">\n",
       "  <thead>\n",
       "    <tr style=\"text-align: right;\">\n",
       "      <th></th>\n",
       "      <th>VIRT</th>\n",
       "      <th>RES</th>\n",
       "      <th>CPU</th>\n",
       "      <th>alg</th>\n",
       "      <th>mean</th>\n",
       "    </tr>\n",
       "  </thead>\n",
       "  <tbody>\n",
       "    <tr>\n",
       "      <th>890</th>\n",
       "      <td>8.27637</td>\n",
       "      <td>6.3g</td>\n",
       "      <td>1040.0</td>\n",
       "      <td>gbdt</td>\n",
       "      <td>0</td>\n",
       "    </tr>\n",
       "    <tr>\n",
       "      <th>891</th>\n",
       "      <td>8.40333</td>\n",
       "      <td>6.4g</td>\n",
       "      <td>962.0</td>\n",
       "      <td>gbdt</td>\n",
       "      <td>0</td>\n",
       "    </tr>\n",
       "    <tr>\n",
       "      <th>892</th>\n",
       "      <td>8.34083</td>\n",
       "      <td>6.3g</td>\n",
       "      <td>966.8</td>\n",
       "      <td>gbdt</td>\n",
       "      <td>0</td>\n",
       "    </tr>\n",
       "    <tr>\n",
       "      <th>893</th>\n",
       "      <td>8.34083</td>\n",
       "      <td>6.3g</td>\n",
       "      <td>483.0</td>\n",
       "      <td>gbdt</td>\n",
       "      <td>0</td>\n",
       "    </tr>\n",
       "    <tr>\n",
       "      <th>894</th>\n",
       "      <td>8.34083</td>\n",
       "      <td>6.3g</td>\n",
       "      <td>9.2</td>\n",
       "      <td>gbdt</td>\n",
       "      <td>0</td>\n",
       "    </tr>\n",
       "  </tbody>\n",
       "</table>\n",
       "</div>"
      ],
      "text/plain": [
       "        VIRT   RES     CPU   alg  mean\n",
       "890  8.27637  6.3g  1040.0  gbdt     0\n",
       "891  8.40333  6.4g   962.0  gbdt     0\n",
       "892  8.34083  6.3g   966.8  gbdt     0\n",
       "893  8.34083  6.3g   483.0  gbdt     0\n",
       "894  8.34083  6.3g     9.2  gbdt     0"
      ]
     },
     "execution_count": 155,
     "metadata": {},
     "output_type": "execute_result"
    }
   ],
   "source": [
    "df[(df.alg == 'gbdt') & (df['mean'] == 0)].tail()"
   ]
  },
  {
   "cell_type": "code",
   "execution_count": 156,
   "metadata": {},
   "outputs": [
    {
     "data": {
      "text/html": [
       "<div>\n",
       "<style scoped>\n",
       "    .dataframe tbody tr th:only-of-type {\n",
       "        vertical-align: middle;\n",
       "    }\n",
       "\n",
       "    .dataframe tbody tr th {\n",
       "        vertical-align: top;\n",
       "    }\n",
       "\n",
       "    .dataframe thead th {\n",
       "        text-align: right;\n",
       "    }\n",
       "</style>\n",
       "<table border=\"1\" class=\"dataframe\">\n",
       "  <thead>\n",
       "    <tr style=\"text-align: right;\">\n",
       "      <th></th>\n",
       "      <th>VIRT</th>\n",
       "      <th>RES</th>\n",
       "      <th>CPU</th>\n",
       "      <th>alg</th>\n",
       "      <th>mean</th>\n",
       "    </tr>\n",
       "  </thead>\n",
       "  <tbody>\n",
       "    <tr>\n",
       "      <th>885</th>\n",
       "      <td>5.21704</td>\n",
       "      <td>2.6g</td>\n",
       "      <td>477.2</td>\n",
       "      <td>fifo</td>\n",
       "      <td>0</td>\n",
       "    </tr>\n",
       "    <tr>\n",
       "      <th>886</th>\n",
       "      <td>5.21704</td>\n",
       "      <td>2.6g</td>\n",
       "      <td>482.2</td>\n",
       "      <td>fifo</td>\n",
       "      <td>0</td>\n",
       "    </tr>\n",
       "    <tr>\n",
       "      <th>887</th>\n",
       "      <td>5.21704</td>\n",
       "      <td>2.6g</td>\n",
       "      <td>471.1</td>\n",
       "      <td>fifo</td>\n",
       "      <td>0</td>\n",
       "    </tr>\n",
       "    <tr>\n",
       "      <th>888</th>\n",
       "      <td>5.2561</td>\n",
       "      <td>2.6g</td>\n",
       "      <td>471.9</td>\n",
       "      <td>fifo</td>\n",
       "      <td>0</td>\n",
       "    </tr>\n",
       "    <tr>\n",
       "      <th>889</th>\n",
       "      <td>5.21704</td>\n",
       "      <td>2.6g</td>\n",
       "      <td>30.4</td>\n",
       "      <td>fifo</td>\n",
       "      <td>0</td>\n",
       "    </tr>\n",
       "  </tbody>\n",
       "</table>\n",
       "</div>"
      ],
      "text/plain": [
       "        VIRT   RES    CPU   alg  mean\n",
       "885  5.21704  2.6g  477.2  fifo     0\n",
       "886  5.21704  2.6g  482.2  fifo     0\n",
       "887  5.21704  2.6g  471.1  fifo     0\n",
       "888   5.2561  2.6g  471.9  fifo     0\n",
       "889  5.21704  2.6g   30.4  fifo     0"
      ]
     },
     "execution_count": 156,
     "metadata": {},
     "output_type": "execute_result"
    }
   ],
   "source": [
    "df[(df.alg == 'fifo') & (df['mean'] == 0)].tail()"
   ]
  },
  {
   "cell_type": "code",
   "execution_count": 24,
   "metadata": {},
   "outputs": [
    {
     "data": {
      "text/plain": [
       "Text(0, 0.5, 'CPU percentage')"
      ]
     },
     "execution_count": 24,
     "metadata": {},
     "output_type": "execute_result"
    },
    {
     "data": {
      "image/png": "[encoded data removed]",
      "text/plain": [
       "<Figure size 432x288 with 1 Axes>"
      ]
     },
     "metadata": {
      "needs_background": "light"
     },
     "output_type": "display_data"
    }
   ],
   "source": [
    "plt.plot(df.CPU)\n",
    "plt.xlabel(f'time (10s)')\n",
    "plt.ylabel(f'CPU percentage')"
   ]
  },
  {
   "cell_type": "code",
   "execution_count": 25,
   "metadata": {},
   "outputs": [
    {
     "data": {
      "text/plain": [
       "Text(0, 0.5, 'VIRT mem (byte)')"
      ]
     },
     "execution_count": 25,
     "metadata": {},
     "output_type": "execute_result"
    },
    {
     "data": {
      "image/png": "[encoded data removed]",
      "text/plain": [
       "<Figure size 432x288 with 1 Axes>"
      ]
     },
     "metadata": {
      "needs_background": "light"
     },
     "output_type": "display_data"
    }
   ],
   "source": [
    "plt.scatter(df.index, df.VIRT)\n",
    "plt.xlabel(f'time (10s)')\n",
    "plt.ylabel(f'VIRT mem (byte)')"
   ]
  },
  {
   "cell_type": "code",
   "execution_count": 27,
   "metadata": {},
   "outputs": [
    {
     "data": {
      "text/plain": [
       "Text(0, 0.5, 'resident memory')"
      ]
     },
     "execution_count": 27,
     "metadata": {},
     "output_type": "execute_result"
    },
    {
     "data": {
      "image/png": "[encoded data removed]",
      "text/plain": [
       "<Figure size 432x288 with 1 Axes>"
      ]
     },
     "metadata": {
      "needs_background": "light"
     },
     "output_type": "display_data"
    }
   ],
   "source": [
    "plt.plot(df.RES)\n",
    "plt.xlabel(f'time (10s)')\n",
    "plt.ylabel(f'resident memory')"
   ]
  },
  {
   "cell_type": "code",
   "execution_count": null,
   "metadata": {},
   "outputs": [],
   "source": []
  }
 ],
 "metadata": {
  "kernelspec": {
   "display_name": "webcachesim",
   "language": "python",
   "name": "webcachesim_env"
  },
  "language_info": {
   "codemirror_mode": {
    "name": "ipython",
    "version": 3
   },
   "file_extension": ".py",
   "mimetype": "text/x-python",
   "name": "python",
   "nbconvert_exporter": "python",
   "pygments_lexer": "ipython3",
   "version": "3.6.7"
  }
 },
 "nbformat": 4,
 "nbformat_minor": 2
}
