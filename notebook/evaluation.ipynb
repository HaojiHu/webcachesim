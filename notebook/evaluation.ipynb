{
 "cells": [
  {
   "cell_type": "code",
   "execution_count": 8,
   "metadata": {},
   "outputs": [],
   "source": [
    "%matplotlib inline\n",
    "import pandas as pd\n",
    "import numpy as np\n",
    "\n",
    "import matplotlib.pyplot as plt\n",
    "import matplotlib\n",
    "import seaborn as sns\n",
    "import yaml\n",
    "from glob import glob\n",
    "import pathlib\n",
    "\n",
    "FONT_SIZE = 15\n",
    "plt.rc('font', size=FONT_SIZE)          # controls default text sizes\n",
    "plt.rc('axes', titlesize=FONT_SIZE)     # fontsize of the axes title\n",
    "plt.rc('axes', labelsize=FONT_SIZE)    # fontsize of the x and y labels\n",
    "plt.rc('xtick', labelsize=FONT_SIZE)    # fontsize of the tick labels\n",
    "plt.rc('ytick', labelsize=FONT_SIZE)    # fontsize of the tick labels\n",
    "plt.rc('legend', fontsize=FONT_SIZE)    # legend fontsize\n",
    "plt.rc('figure', titlesize=FONT_SIZE)  # fontsize of the figure title\n",
    "matplotlib.rc('lines', linewidth=3)"
   ]
  },
  {
   "cell_type": "code",
   "execution_count": 9,
   "metadata": {},
   "outputs": [],
   "source": [
    "log_dir = '/home/zhenyus/webcachesim/log'"
   ]
  },
  {
   "cell_type": "code",
   "execution_count": 70,
   "metadata": {},
   "outputs": [],
   "source": [
    "def to_label(x):\n",
    "    \"\"\"\n",
    "    what to put on legend\n",
    "    \"\"\"\n",
    "    return yaml.dump(\n",
    "        {k: x[k] for k in x.to_dict() if k not in {\n",
    "            'cache_size', \n",
    "            'byte_hit_rate', \n",
    "            'object_hit_rate',\n",
    "            'trace_file', \n",
    "            'n_warmup', \n",
    "            'n_early_stop',\n",
    "            'task_id'\n",
    "        } and not pd.isnull(x[k])\n",
    "        })\n",
    "\n",
    "def to_id(x):\n",
    "    \"\"\"\n",
    "    unique identifier\n",
    "    \"\"\"\n",
    "    return str(yaml.dump(\n",
    "        {k: x[k] for k in x if k not in {\n",
    "            'byte_hit_rate', \n",
    "            'object_hit_rate',\n",
    "            'task_id',\n",
    "        } and not pd.isnull(x[k])\n",
    "        }))\n",
    "\n",
    "    \n",
    "def load_reports(log_dir):\n",
    "    timestamps = glob(f'{log_dir}/*.res')\n",
    "    timestamps = [pathlib.PurePosixPath(t).stem for t in timestamps]\n",
    "    timestamps.sort()\n",
    "    tasks = {}\n",
    "    for t in timestamps:\n",
    "        with open(f'{log_dir}/{t}.res') as f:\n",
    "            res = yaml.load(f)\n",
    "        res = {**res['res'], **res['task']}\n",
    "        tasks[to_id(res)] = res\n",
    "    tasks = [{'task_id': k, **v} for k, v in tasks.items()]\n",
    "    df = pd.DataFrame(tasks)\n",
    "#     df['task_id'] = df.apply(lambda x: to_id(x), axis='columns')\n",
    "#     df = df.drop_duplicates(keep='last', subset=[\n",
    "#         'task_id',\n",
    "#     ])\n",
    "    return df"
   ]
  },
  {
   "cell_type": "code",
   "execution_count": 71,
   "metadata": {},
   "outputs": [
    {
     "data": {
      "image/png": "[encoded data removed]",
      "text/plain": [
       "<Figure size 864x576 with 1 Axes>"
      ]
     },
     "metadata": {
      "needs_background": "light"
     },
     "output_type": "display_data"
    }
   ],
   "source": [
    "trace = 'w200m.tr'\n",
    "\n",
    "df = load_reports(log_dir)\n",
    "filter_idx = (\n",
    "    (df.trace_file == trace) \n",
    "#     & (df.n_warmup == 100000)\n",
    "#     & (df.if_uni_size == False)\n",
    "#     & (df.cache_capacity <= 30000)\n",
    "#     & (\n",
    "#         (df.algorithm.isin(['SLRU', 'Belady', 'Random', 'LRU', 'BeladyLR'])) \n",
    "#         | (df.algorithm.isin(['FIFOLR', 'LRULR', 'GDSFLR', 'LFULR']))\n",
    "#         | ((df.algorithm == 'LR') & (df.sample_rate == 32))\n",
    "#         | ((df.algorithm == 'SLRULR') & (df.sample_rate == 32))\n",
    "#     )\n",
    ")\n",
    "\n",
    "df1 = df[filter_idx].copy()\n",
    "df1['label'] = df1.apply(lambda x: to_label(x), axis='columns')\n",
    "fig, ax = plt.subplots(figsize=(12, 8))\n",
    "for k, grp in df1.groupby(['label']):\n",
    "    grp = grp.sort_values(by=['cache_size'])\n",
    "    ax = grp.plot(ax=ax, kind='line', x='cache_size', y='byte_hit_rate', label=k, marker='*', markersize=12)\n",
    "plt.legend(loc=9, bbox_to_anchor=(0.5, -0.1))\n",
    "plt.ylabel('hit rate')\n",
    "plt.title(trace)\n",
    "plt.ylim([0, 1.])\n",
    "plt.show()"
   ]
  },
  {
   "cell_type": "code",
   "execution_count": 62,
   "metadata": {},
   "outputs": [
    {
     "data": {
      "text/html": [
       "<div>\n",
       "<style scoped>\n",
       "    .dataframe tbody tr th:only-of-type {\n",
       "        vertical-align: middle;\n",
       "    }\n",
       "\n",
       "    .dataframe tbody tr th {\n",
       "        vertical-align: top;\n",
       "    }\n",
       "\n",
       "    .dataframe thead th {\n",
       "        text-align: right;\n",
       "    }\n",
       "</style>\n",
       "<table border=\"1\" class=\"dataframe\">\n",
       "  <thead>\n",
       "    <tr style=\"text-align: right;\">\n",
       "      <th></th>\n",
       "      <th>byte_hit_rate</th>\n",
       "      <th>cache_size</th>\n",
       "      <th>cache_type</th>\n",
       "      <th>object_hit_rate</th>\n",
       "      <th>task_id</th>\n",
       "      <th>trace_file</th>\n",
       "      <th>label</th>\n",
       "    </tr>\n",
       "  </thead>\n",
       "  <tbody>\n",
       "    <tr>\n",
       "      <th>0</th>\n",
       "      <td>0.008637</td>\n",
       "      <td>96000000000</td>\n",
       "      <td>Belady</td>\n",
       "      <td>0.181000</td>\n",
       "      <td>2</td>\n",
       "      <td>w1k.tr</td>\n",
       "      <td>{cache_type: Belady}\\n</td>\n",
       "    </tr>\n",
       "    <tr>\n",
       "      <th>1</th>\n",
       "      <td>0.214149</td>\n",
       "      <td>96000000000</td>\n",
       "      <td>Belady</td>\n",
       "      <td>0.593148</td>\n",
       "      <td>1</td>\n",
       "      <td>w1m.tr</td>\n",
       "      <td>{cache_type: Belady}\\n</td>\n",
       "    </tr>\n",
       "    <tr>\n",
       "      <th>2</th>\n",
       "      <td>0.477371</td>\n",
       "      <td>96000000000</td>\n",
       "      <td>Belady</td>\n",
       "      <td>0.798506</td>\n",
       "      <td>0</td>\n",
       "      <td>w10m.tr</td>\n",
       "      <td>{cache_type: Belady}\\n</td>\n",
       "    </tr>\n",
       "  </tbody>\n",
       "</table>\n",
       "</div>"
      ],
      "text/plain": [
       "   byte_hit_rate   cache_size cache_type  object_hit_rate  task_id trace_file  \\\n",
       "0       0.008637  96000000000     Belady         0.181000        2     w1k.tr   \n",
       "1       0.214149  96000000000     Belady         0.593148        1     w1m.tr   \n",
       "2       0.477371  96000000000     Belady         0.798506        0    w10m.tr   \n",
       "\n",
       "                    label  \n",
       "0  {cache_type: Belady}\\n  \n",
       "1  {cache_type: Belady}\\n  \n",
       "2  {cache_type: Belady}\\n  "
      ]
     },
     "execution_count": 62,
     "metadata": {},
     "output_type": "execute_result"
    }
   ],
   "source": [
    "df1"
   ]
  },
  {
   "cell_type": "code",
   "execution_count": 63,
   "metadata": {},
   "outputs": [
    {
     "data": {
      "text/plain": [
       "0    False\n",
       "1    False\n",
       "2    False\n",
       "Name: trace_file, dtype: bool"
      ]
     },
     "execution_count": 63,
     "metadata": {},
     "output_type": "execute_result"
    }
   ],
   "source": [
    "df.trace_file == trace"
   ]
  },
  {
   "cell_type": "code",
   "execution_count": 45,
   "metadata": {},
   "outputs": [
    {
     "data": {
      "text/plain": [
       "5    {cache_size: 96000000000, cache_type: Belady, ...\n",
       "6    {cache_size: 96000000000, cache_type: Belady, ...\n",
       "7    {cache_size: 96000000000, cache_type: Belady, ...\n",
       "Name: task_id, dtype: object"
      ]
     },
     "execution_count": 45,
     "metadata": {},
     "output_type": "execute_result"
    }
   ],
   "source": [
    "df1.task_id.drop_duplicates()"
   ]
  },
  {
   "cell_type": "code",
   "execution_count": 36,
   "metadata": {},
   "outputs": [
    {
     "data": {
      "text/plain": [
       "'{cache_size: 96000000000, cache_type: Belady, trace_file: w1m.tr}\\n'"
      ]
     },
     "execution_count": 36,
     "metadata": {},
     "output_type": "execute_result"
    }
   ],
   "source": [
    "df1.task_id[6]"
   ]
  },
  {
   "cell_type": "code",
   "execution_count": 38,
   "metadata": {},
   "outputs": [
    {
     "data": {
      "text/plain": [
       "True"
      ]
     },
     "execution_count": 38,
     "metadata": {},
     "output_type": "execute_result"
    }
   ],
   "source": [
    "yaml.dump({1:2}) == yaml.dump({1:2})"
   ]
  },
  {
   "cell_type": "code",
   "execution_count": 42,
   "metadata": {},
   "outputs": [
    {
     "ename": "AttributeError",
     "evalue": "'dict' object has no attribute 'to_dict'",
     "output_type": "error",
     "traceback": [
      "\u001b[0;31m---------------------------------------------------------------------------\u001b[0m",
      "\u001b[0;31mAttributeError\u001b[0m                            Traceback (most recent call last)",
      "\u001b[0;32m<ipython-input-42-8618dd9e0833>\u001b[0m in \u001b[0;36m<module>\u001b[0;34m\u001b[0m\n\u001b[0;32m----> 1\u001b[0;31m \u001b[0mto_id\u001b[0m\u001b[0;34m(\u001b[0m\u001b[0;34m{\u001b[0m\u001b[0;36m2\u001b[0m\u001b[0;34m:\u001b[0m\u001b[0;36m3\u001b[0m\u001b[0;34m}\u001b[0m\u001b[0;34m)\u001b[0m\u001b[0;34m\u001b[0m\u001b[0;34m\u001b[0m\u001b[0m\n\u001b[0m",
      "\u001b[0;32m<ipython-input-39-d2257a9f666c>\u001b[0m in \u001b[0;36mto_id\u001b[0;34m(x)\u001b[0m\n\u001b[1;32m     20\u001b[0m     \"\"\"\n\u001b[1;32m     21\u001b[0m     return yaml.dump(\n\u001b[0;32m---> 22\u001b[0;31m         {k: x[k] for k in x.to_dict() if k not in {\n\u001b[0m\u001b[1;32m     23\u001b[0m             \u001b[0;34m'byte_hit_rate'\u001b[0m\u001b[0;34m,\u001b[0m\u001b[0;34m\u001b[0m\u001b[0;34m\u001b[0m\u001b[0m\n\u001b[1;32m     24\u001b[0m             \u001b[0;34m'object_hit_rate'\u001b[0m\u001b[0;34m,\u001b[0m\u001b[0;34m\u001b[0m\u001b[0;34m\u001b[0m\u001b[0m\n",
      "\u001b[0;31mAttributeError\u001b[0m: 'dict' object has no attribute 'to_dict'"
     ]
    }
   ],
   "source": [
    "to_id({2:3})"
   ]
  },
  {
   "cell_type": "code",
   "execution_count": 51,
   "metadata": {},
   "outputs": [],
   "source": [
    "df = pd.DataFrame({1:[2, 3,3,3,3], 3:[2,3,3,3,3]})"
   ]
  },
  {
   "cell_type": "code",
   "execution_count": 52,
   "metadata": {},
   "outputs": [
    {
     "data": {
      "text/html": [
       "<div>\n",
       "<style scoped>\n",
       "    .dataframe tbody tr th:only-of-type {\n",
       "        vertical-align: middle;\n",
       "    }\n",
       "\n",
       "    .dataframe tbody tr th {\n",
       "        vertical-align: top;\n",
       "    }\n",
       "\n",
       "    .dataframe thead th {\n",
       "        text-align: right;\n",
       "    }\n",
       "</style>\n",
       "<table border=\"1\" class=\"dataframe\">\n",
       "  <thead>\n",
       "    <tr style=\"text-align: right;\">\n",
       "      <th></th>\n",
       "      <th>1</th>\n",
       "      <th>3</th>\n",
       "    </tr>\n",
       "  </thead>\n",
       "  <tbody>\n",
       "    <tr>\n",
       "      <th>0</th>\n",
       "      <td>2</td>\n",
       "      <td>2</td>\n",
       "    </tr>\n",
       "    <tr>\n",
       "      <th>1</th>\n",
       "      <td>3</td>\n",
       "      <td>3</td>\n",
       "    </tr>\n",
       "    <tr>\n",
       "      <th>2</th>\n",
       "      <td>3</td>\n",
       "      <td>3</td>\n",
       "    </tr>\n",
       "    <tr>\n",
       "      <th>3</th>\n",
       "      <td>3</td>\n",
       "      <td>3</td>\n",
       "    </tr>\n",
       "    <tr>\n",
       "      <th>4</th>\n",
       "      <td>3</td>\n",
       "      <td>3</td>\n",
       "    </tr>\n",
       "  </tbody>\n",
       "</table>\n",
       "</div>"
      ],
      "text/plain": [
       "   1  3\n",
       "0  2  2\n",
       "1  3  3\n",
       "2  3  3\n",
       "3  3  3\n",
       "4  3  3"
      ]
     },
     "execution_count": 52,
     "metadata": {},
     "output_type": "execute_result"
    }
   ],
   "source": [
    "df"
   ]
  },
  {
   "cell_type": "code",
   "execution_count": 53,
   "metadata": {},
   "outputs": [
    {
     "data": {
      "text/html": [
       "<div>\n",
       "<style scoped>\n",
       "    .dataframe tbody tr th:only-of-type {\n",
       "        vertical-align: middle;\n",
       "    }\n",
       "\n",
       "    .dataframe tbody tr th {\n",
       "        vertical-align: top;\n",
       "    }\n",
       "\n",
       "    .dataframe thead th {\n",
       "        text-align: right;\n",
       "    }\n",
       "</style>\n",
       "<table border=\"1\" class=\"dataframe\">\n",
       "  <thead>\n",
       "    <tr style=\"text-align: right;\">\n",
       "      <th></th>\n",
       "      <th>1</th>\n",
       "      <th>3</th>\n",
       "    </tr>\n",
       "  </thead>\n",
       "  <tbody>\n",
       "    <tr>\n",
       "      <th>0</th>\n",
       "      <td>2</td>\n",
       "      <td>2</td>\n",
       "    </tr>\n",
       "    <tr>\n",
       "      <th>1</th>\n",
       "      <td>3</td>\n",
       "      <td>3</td>\n",
       "    </tr>\n",
       "  </tbody>\n",
       "</table>\n",
       "</div>"
      ],
      "text/plain": [
       "   1  3\n",
       "0  2  2\n",
       "1  3  3"
      ]
     },
     "execution_count": 53,
     "metadata": {},
     "output_type": "execute_result"
    }
   ],
   "source": [
    "df.drop_duplicates()"
   ]
  },
  {
   "cell_type": "code",
   "execution_count": null,
   "metadata": {},
   "outputs": [],
   "source": []
  }
 ],
 "metadata": {
  "kernelspec": {
   "display_name": "webcachesim_env",
   "language": "python",
   "name": "webcachesim_env"
  },
  "language_info": {
   "codemirror_mode": {
    "name": "ipython",
    "version": 3
   },
   "file_extension": ".py",
   "mimetype": "text/x-python",
   "name": "python",
   "nbconvert_exporter": "python",
   "pygments_lexer": "ipython3",
   "version": "3.6.7"
  }
 },
 "nbformat": 4,
 "nbformat_minor": 2
}
