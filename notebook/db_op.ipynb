{
 "cells": [
  {
   "cell_type": "code",
   "execution_count": 36,
   "metadata": {},
   "outputs": [],
   "source": [
    "from pymongo import MongoClient\n",
    "\n",
    "scheduler_args = {\n",
    "  \"dburl\": \"ds135724.mlab.com\",\n",
    "  \"dbport\": \"35724\",\n",
    "  \"dbname\": \"webcachesim\",\n",
    "  \"dbuser\": \"zhenyus\",\n",
    "  \"dbpassword\": \"szy123456\",\n",
    "}\n",
    "\n",
    "# scheduler_args = {\n",
    "#   \"dburl\": \"ec2-35-175-106-0.compute-1.amazonaws.com\",\n",
    "#   \"dbport\": \"27017\",\n",
    "#   \"dbname\": \"webcachesim\",\n",
    "#   \"dbuser\": \"zhenyus\",\n",
    "#   \"dbpassword\": \"szy123456\",\n",
    "# }"
   ]
  },
  {
   "cell_type": "code",
   "execution_count": 37,
   "metadata": {},
   "outputs": [],
   "source": [
    "# for mlab\n",
    "uri = (f'mongodb://{scheduler_args[\"dbuser\"]}:{scheduler_args[\"dbpassword\"]}@{scheduler_args[\"dburl\"]}:'\n",
    "           f'{scheduler_args[\"dbport\"]}/{scheduler_args[\"dbname\"]}')\n",
    "client = MongoClient(uri)\n",
    "db = client.get_database()"
   ]
  },
  {
   "cell_type": "code",
   "execution_count": 38,
   "metadata": {},
   "outputs": [],
   "source": [
    "# for ec2\n",
    "#uri = (f'mongodb://{scheduler_args[\"dbuser\"]}:{scheduler_args[\"dbpassword\"]}@{scheduler_args[\"dburl\"]}:'\n",
    "#           f'{scheduler_args[\"dbport\"]}')\n",
    "#client = MongoClient(uri)\n",
    "#db = client.get_database('webcachesim')"
   ]
  },
  {
   "cell_type": "code",
   "execution_count": 39,
   "metadata": {},
   "outputs": [],
   "source": [
    "collection = db[\"c\"]\n",
    "res = []\n",
    "for r in collection.find():\n",
    "    res.append(r)"
   ]
  },
  {
   "cell_type": "code",
   "execution_count": 34,
   "metadata": {},
   "outputs": [],
   "source": [
    "# for ec2\n",
    "#collection = db[\"dev\"]\n",
    "#res = []\n",
    "#for r in collection.find():\n",
    "#    res.append(r)"
   ]
  },
  {
   "cell_type": "code",
   "execution_count": 45,
   "metadata": {},
   "outputs": [
    {
     "data": {
      "text/plain": [
       "8042"
      ]
     },
     "execution_count": 45,
     "metadata": {},
     "output_type": "execute_result"
    }
   ],
   "source": [
    "len(res)"
   ]
  },
  {
   "cell_type": "code",
   "execution_count": 44,
   "metadata": {},
   "outputs": [
    {
     "data": {
      "text/plain": [
       "{'byte_hit_rate': '0.116156',\n",
       " 'object_hit_rate': '0.442588',\n",
       " 'simulation_time': '104.96807833900675',\n",
       " 'cache_size': '102400000000',\n",
       " 'cache_type': 'LFUDA',\n",
       " 'n_warmup': '10000000',\n",
       " 'trace_file': 'msr_proj_1.tr',\n",
       " 'uni_size': '0'}"
      ]
     },
     "execution_count": 44,
     "metadata": {},
     "output_type": "execute_result"
    }
   ],
   "source": [
    "res[0]"
   ]
  },
  {
   "cell_type": "code",
   "execution_count": 42,
   "metadata": {},
   "outputs": [],
   "source": [
    "for r in res:\n",
    "    del r['_id']"
   ]
  },
  {
   "cell_type": "code",
   "execution_count": 59,
   "metadata": {},
   "outputs": [],
   "source": [
    "scheduler_args = {\n",
    "  \"dburl\": \"ec2-34-236-36-38.compute-1.amazonaws.com\",\n",
    "  \"dbport\": \"27017\",\n",
    "  \"dbname\": \"webcachesim\",\n",
    "  \"dbuser\": \"zhenyus\",\n",
    "  \"dbpassword\": \"szy123456\",\n",
    "}"
   ]
  },
  {
   "cell_type": "code",
   "execution_count": 60,
   "metadata": {},
   "outputs": [],
   "source": [
    "# for ec2\n",
    "uri = (f'mongodb://{scheduler_args[\"dbuser\"]}:{scheduler_args[\"dbpassword\"]}@{scheduler_args[\"dburl\"]}:'\n",
    "          f'{scheduler_args[\"dbport\"]}')\n",
    "client = MongoClient(uri)\n",
    "db = client.get_database('webcachesim')"
   ]
  },
  {
   "cell_type": "code",
   "execution_count": 61,
   "metadata": {},
   "outputs": [],
   "source": [
    "# for ec2\n",
    "collection = db[\"dev\"]"
   ]
  },
  {
   "cell_type": "code",
   "execution_count": 62,
   "metadata": {},
   "outputs": [
    {
     "name": "stderr",
     "output_type": "stream",
     "text": [
      "/data/zhenyus/.conda/envs/webcachesim_env/lib/python3.6/site-packages/ipykernel_launcher.py:1: DeprecationWarning: count is deprecated. Use estimated_document_count or count_documents instead. Please note that $where must be replaced by $expr, $near must be replaced by $geoWithin with $center, and $nearSphere must be replaced by $geoWithin with $centerSphere\n",
      "  \"\"\"Entry point for launching an IPython kernel.\n"
     ]
    },
    {
     "data": {
      "text/plain": [
       "17347"
      ]
     },
     "execution_count": 62,
     "metadata": {},
     "output_type": "execute_result"
    }
   ],
   "source": [
    "collection.count()"
   ]
  },
  {
   "cell_type": "code",
   "execution_count": 63,
   "metadata": {},
   "outputs": [],
   "source": [
    "res = []\n",
    "for r in collection.find():\n",
    "    res.append(r)"
   ]
  },
  {
   "cell_type": "code",
   "execution_count": 64,
   "metadata": {},
   "outputs": [
    {
     "data": {
      "text/plain": [
       "17347"
      ]
     },
     "execution_count": 64,
     "metadata": {},
     "output_type": "execute_result"
    }
   ],
   "source": [
    "len(res)"
   ]
  },
  {
   "cell_type": "code",
   "execution_count": 67,
   "metadata": {},
   "outputs": [
    {
     "data": {
      "text/plain": [
       "{'byte_hit_rate': '0.116156',\n",
       " 'object_hit_rate': '0.442588',\n",
       " 'simulation_time': '104.96807833900675',\n",
       " 'cache_size': '102400000000',\n",
       " 'cache_type': 'LFUDA',\n",
       " 'n_warmup': '10000000',\n",
       " 'trace_file': 'msr_proj_1.tr',\n",
       " 'uni_size': '0'}"
      ]
     },
     "execution_count": 67,
     "metadata": {},
     "output_type": "execute_result"
    }
   ],
   "source": [
    "res[0]"
   ]
  },
  {
   "cell_type": "code",
   "execution_count": 66,
   "metadata": {},
   "outputs": [],
   "source": [
    "for r in res:\n",
    "    del r['_id']"
   ]
  },
  {
   "cell_type": "code",
   "execution_count": 76,
   "metadata": {},
   "outputs": [
    {
     "data": {
      "text/plain": [
       "17347"
      ]
     },
     "execution_count": 76,
     "metadata": {},
     "output_type": "execute_result"
    }
   ],
   "source": [
    "len(res)"
   ]
  },
  {
   "cell_type": "code",
   "execution_count": 79,
   "metadata": {},
   "outputs": [],
   "source": [
    "selected_traces = {\n",
    "    'wc400m.tr': 'Wikipedia',\n",
    "    'traceHK.tr': 'CDN Asia',\n",
    "    'traceUS.tr': 'CDN East Cost',\n",
    "    'memc_200m.tr': 'Memcachier',\n",
    "    'msr_rehash_200m.tr': 'MSR Storage',\n",
    "    'anonymous_200m.tr': 'Anonymous Application',\n",
    "    'caida_cache_200m.tr': 'Caida',\n",
    "}"
   ]
  },
  {
   "cell_type": "code",
   "execution_count": 81,
   "metadata": {},
   "outputs": [],
   "source": [
    "res1 = []\n",
    "for r in res:\n",
    "    if r['trace_file'] in selected_traces:\n",
    "        res1.append(r)"
   ]
  },
  {
   "cell_type": "code",
   "execution_count": 82,
   "metadata": {},
   "outputs": [
    {
     "data": {
      "text/plain": [
       "10967"
      ]
     },
     "execution_count": 82,
     "metadata": {},
     "output_type": "execute_result"
    }
   ],
   "source": [
    "len(res1)"
   ]
  },
  {
   "cell_type": "code",
   "execution_count": 83,
   "metadata": {},
   "outputs": [
    {
     "data": {
      "text/plain": [
       "{'trace_file': 'memc_200m.tr',\n",
       " 'cache_type': 'LRU',\n",
       " 'cache_size': '1000000000',\n",
       " 'simulation_time': '513',\n",
       " 'n_extra_fields': '1',\n",
       " 'n_warmup': '20000000',\n",
       " 'uni_size': '0',\n",
       " 'byte_hit_rate': '0.882268',\n",
       " 'object_hit_rate': '0.811068',\n",
       " 'segment_byte_hit_rate': '0.832246\\t0.889119\\t0.885573\\t0.884238\\t0.891144\\t0.887118\\t0.887248\\t0.899304\\t0.875430\\t0.887301\\t0.875401\\t0.873397\\t0.881072\\t0.888554\\t0.884057\\t0.871996\\t0.894453\\t0.868221\\t0.873673\\t0.888130\\t0.873894\\t0.898108\\t0.882988\\t0.876135\\t0.885148\\t0.883340\\t0.883432\\t0.863725\\t0.864789\\t0.847261\\t0.863916\\t0.872118\\t0.864475\\t0.877629\\t0.862666\\t0.873474\\t0.864488\\t0.873519\\t0.854795\\t0.872097\\t0.853310\\t0.878695\\t0.858280\\t0.876279\\t0.862731\\t0.876687\\t0.841181\\t0.867989\\t0.860602\\t0.858750\\t0.868915\\t0.839100\\t0.872662\\t0.849512\\t0.867980\\t0.878539\\t0.883622\\t0.887943\\t0.876586\\t0.885790\\t0.883971\\t0.885963\\t0.859089\\t0.869270\\t0.886872\\t0.878323\\t0.879910\\t0.857415\\t0.856062\\t0.866602\\t0.843938\\t0.869264\\t0.852064\\t0.863073\\t0.859242\\t0.868193\\t0.868505\\t0.869181\\t0.860934\\t0.870847\\t0.878469\\t0.860945\\t0.860741\\t0.866226\\t0.875140\\t0.877725\\t0.883086\\t0.864193\\t0.871404\\t0.877439\\t0.880342\\t0.879788\\t0.879729\\t0.855736\\t0.878720\\t0.861661\\t0.866755\\t0.875643\\t0.867929\\t0.895026\\t0.874259\\t0.885065\\t0.874213\\t0.853695\\t0.882334\\t0.864160\\t0.863992\\t0.860684\\t0.866448\\t0.870522\\t0.870883\\t0.864410\\t0.879030\\t0.863287\\t0.869210\\t0.880356\\t0.875602\\t0.871534\\t0.870803\\t0.880766\\t0.882568\\t0.853024\\t0.871599\\t0.891390\\t0.867545\\t0.864340\\t0.889480\\t0.888234\\t0.878736\\t0.889306\\t0.883781\\t0.885793\\t0.882105\\t0.890339\\t0.878058\\t0.897011\\t0.876653\\t0.879218\\t0.880550\\t0.887695\\t0.880241\\t0.884740\\t0.891602\\t0.888236\\t0.901323\\t0.890617\\t0.898210\\t0.899369\\t0.855067\\t0.882111\\t0.884571\\t0.894281\\t0.895235\\t0.904076\\t0.899162\\t0.880273\\t0.883222\\t0.895016\\t0.896414\\t0.880062\\t0.901330\\t0.894951\\t0.887532\\t0.891404\\t0.901524\\t0.925094\\t0.888045\\t0.911669\\t0.913355\\t0.900316\\t0.937000\\t0.923572\\t0.893344\\t0.907270\\t0.916183\\t0.931985\\t0.909327\\t0.927155\\t0.919149\\t0.908977\\t0.917890\\t0.910069\\t0.895855\\t0.908953\\t0.910422\\t0.884988\\t0.890286\\t0.902675\\t0.894682\\t0.894969\\t0.895345\\t0.895893\\t0.929434\\t0.866082\\t0.888741\\t0.891370\\t0.905840\\t0.918368\\t0.890893\\t0.889760\\t',\n",
       " 'segment_object_hit_rate': '0.680504\\t0.801218\\t0.804701\\t0.794140\\t0.794537\\t0.809973\\t0.811492\\t0.853168\\t0.744946\\t0.815358\\t0.835408\\t0.790145\\t0.763814\\t0.837467\\t0.798985\\t0.789417\\t0.827614\\t0.719365\\t0.783889\\t0.846022\\t0.783126\\t0.810123\\t0.789469\\t0.781098\\t0.842425\\t0.791087\\t0.834159\\t0.752624\\t0.771275\\t0.780593\\t0.803314\\t0.795647\\t0.753512\\t0.813410\\t0.773777\\t0.842331\\t0.789922\\t0.857542\\t0.793026\\t0.823135\\t0.765380\\t0.841770\\t0.780580\\t0.833787\\t0.762771\\t0.822815\\t0.769232\\t0.810223\\t0.788673\\t0.754320\\t0.796421\\t0.731967\\t0.830404\\t0.769497\\t0.779932\\t0.772613\\t0.779378\\t0.824706\\t0.781412\\t0.832922\\t0.784987\\t0.816562\\t0.763094\\t0.782819\\t0.829661\\t0.773508\\t0.832804\\t0.773506\\t0.823045\\t0.822212\\t0.763410\\t0.843818\\t0.755145\\t0.829531\\t0.792390\\t0.836883\\t0.784497\\t0.789068\\t0.812669\\t0.777824\\t0.824745\\t0.771229\\t0.767538\\t0.767080\\t0.801583\\t0.766229\\t0.829327\\t0.761470\\t0.783165\\t0.814567\\t0.764251\\t0.794693\\t0.807161\\t0.756756\\t0.830368\\t0.771749\\t0.766283\\t0.832779\\t0.799474\\t0.847999\\t0.795632\\t0.809925\\t0.820494\\t0.754151\\t0.833901\\t0.783936\\t0.777300\\t0.848080\\t0.798343\\t0.826381\\t0.824735\\t0.778413\\t0.822038\\t0.799833\\t0.790923\\t0.801908\\t0.830435\\t0.802776\\t0.789742\\t0.816525\\t0.820238\\t0.770159\\t0.792100\\t0.821071\\t0.798865\\t0.807351\\t0.856857\\t0.799972\\t0.794266\\t0.821472\\t0.823383\\t0.807919\\t0.802470\\t0.864307\\t0.824102\\t0.870908\\t0.844499\\t0.833692\\t0.821980\\t0.843951\\t0.801149\\t0.825102\\t0.866621\\t0.853870\\t0.876866\\t0.815708\\t0.878800\\t0.881470\\t0.836832\\t0.827093\\t0.832262\\t0.884461\\t0.831549\\t0.838387\\t0.822154\\t0.826054\\t0.829769\\t0.827415\\t0.821355\\t0.816103\\t0.860884\\t0.806948\\t0.784506\\t0.807039\\t0.802147\\t0.855318\\t0.802823\\t0.867019\\t0.795978\\t0.761497\\t0.849633\\t0.810371\\t0.782291\\t0.877400\\t0.855813\\t0.865655\\t0.800574\\t0.883354\\t0.877276\\t0.839678\\t0.858764\\t0.879546\\t0.849683\\t0.835822\\t0.879239\\t0.811697\\t0.847364\\t0.894775\\t0.817966\\t0.839592\\t0.891299\\t0.794796\\t0.774821\\t0.738814\\t0.786455\\t0.781871\\t0.791564\\t0.801186\\t0.776717\\t0.779737\\t'}"
      ]
     },
     "execution_count": 83,
     "metadata": {},
     "output_type": "execute_result"
    }
   ],
   "source": [
    "res1[0]"
   ]
  },
  {
   "cell_type": "code",
   "execution_count": 85,
   "metadata": {},
   "outputs": [],
   "source": [
    "# Python3 Program to find  \n",
    "# whether a no is  \n",
    "# power of two \n",
    "import math \n",
    "  \n",
    "# Function to check \n",
    "# Log base 2 \n",
    "def Log2(x): \n",
    "    if x == 0: \n",
    "        return false; \n",
    "  \n",
    "    return (math.log10(x) / \n",
    "            math.log10(2)); \n",
    "  \n",
    "# Function to check \n",
    "# if x is power of 2 \n",
    "def isPowerOfTwo(n): \n",
    "    return (math.ceil(Log2(n)) == \n",
    "            math.floor(Log2(n))); \n",
    "  \n",
    "# # Driver Code \n",
    "# if(isPowerOfTwo(31)): \n",
    "#     print(\"Yes\"); \n",
    "# else: \n",
    "#     print(\"No\"); \n",
    "  \n",
    "# if(isPowerOfTwo(64)): \n",
    "#     print(\"Yes\"); \n",
    "# else: \n",
    "#     print(\"No\"); \n",
    "      \n",
    "# This code is contributed  \n",
    "# by mits "
   ]
  },
  {
   "cell_type": "code",
   "execution_count": 88,
   "metadata": {},
   "outputs": [],
   "source": [
    "res2 = []\n",
    "for r in res1:\n",
    "    s = int(r['cache_size'])\n",
    "    if isPowerOfTwo(s):\n",
    "        res2.append(r)"
   ]
  },
  {
   "cell_type": "code",
   "execution_count": 89,
   "metadata": {},
   "outputs": [
    {
     "data": {
      "text/plain": [
       "5336"
      ]
     },
     "execution_count": 89,
     "metadata": {},
     "output_type": "execute_result"
    }
   ],
   "source": [
    "len(res2)"
   ]
  },
  {
   "cell_type": "code",
   "execution_count": 94,
   "metadata": {},
   "outputs": [],
   "source": [
    "for r in res2:\n",
    "    if 'cache_size_decouple' in r:\n",
    "        del r['cache_size_decouple']\n",
    "    if 'miss_decouple' in r:\n",
    "        del r['miss_decouple']"
   ]
  },
  {
   "cell_type": "code",
   "execution_count": 95,
   "metadata": {},
   "outputs": [
    {
     "data": {
      "text/plain": [
       "5336"
      ]
     },
     "execution_count": 95,
     "metadata": {},
     "output_type": "execute_result"
    }
   ],
   "source": [
    "len(res2)"
   ]
  },
  {
   "cell_type": "code",
   "execution_count": 101,
   "metadata": {},
   "outputs": [],
   "source": [
    "import ujson as json"
   ]
  },
  {
   "cell_type": "code",
   "execution_count": 104,
   "metadata": {},
   "outputs": [],
   "source": [
    "for r in res2:\n",
    "    if 'segment_byte_hit_rate' in r:\n",
    "        r['segment_byte_hit_rate'] = json.dumps([float(i)for i in r['segment_byte_hit_rate'].split()])\n",
    "    if 'segment_object_hit_rate' in r:\n",
    "        r['segment_object_hit_rate'] = json.dumps([float(i)for i in r['segment_object_hit_rate'].split()])"
   ]
  },
  {
   "cell_type": "code",
   "execution_count": 105,
   "metadata": {},
   "outputs": [
    {
     "data": {
      "text/plain": [
       "5336"
      ]
     },
     "execution_count": 105,
     "metadata": {},
     "output_type": "execute_result"
    }
   ],
   "source": [
    "len(res2)"
   ]
  },
  {
   "cell_type": "code",
   "execution_count": 116,
   "metadata": {},
   "outputs": [],
   "source": [
    "collection = db[\"dev\"]"
   ]
  },
  {
   "cell_type": "code",
   "execution_count": 115,
   "metadata": {},
   "outputs": [],
   "source": [
    "collection.drop()"
   ]
  },
  {
   "cell_type": "code",
   "execution_count": 116,
   "metadata": {},
   "outputs": [],
   "source": [
    "collection = db[\"dev\"]"
   ]
  },
  {
   "cell_type": "code",
   "execution_count": 117,
   "metadata": {},
   "outputs": [],
   "source": [
    "for r in res2:\n",
    "    collection.insert_one(r)"
   ]
  },
  {
   "cell_type": "code",
   "execution_count": null,
   "metadata": {},
   "outputs": [],
   "source": []
  },
  {
   "cell_type": "code",
   "execution_count": 50,
   "metadata": {},
   "outputs": [],
   "source": [
    "for r in res:\n",
    "    key = {k:v for k,v in r.items() if k not in [\n",
    "            'simulation_time',\n",
    "            'byte_hit_rate',\n",
    "            'object_hit_rate',\n",
    "            'segment_byte_hit_rate',\n",
    "            'segment_object_hit_rate',\n",
    "            'miss_decouple',\n",
    "            'cache_size_decouple',\n",
    "            'miss_decouple',\n",
    "    ]}\n",
    "    collection.replace_one(key, r, upsert=True)"
   ]
  },
  {
   "cell_type": "code",
   "execution_count": 51,
   "metadata": {},
   "outputs": [
    {
     "name": "stderr",
     "output_type": "stream",
     "text": [
      "/data/zhenyus/.conda/envs/webcachesim_env/lib/python3.6/site-packages/ipykernel_launcher.py:1: DeprecationWarning: count is deprecated. Use estimated_document_count or count_documents instead. Please note that $where must be replaced by $expr, $near must be replaced by $geoWithin with $center, and $nearSphere must be replaced by $geoWithin with $centerSphere\n",
      "  \"\"\"Entry point for launching an IPython kernel.\n"
     ]
    },
    {
     "data": {
      "text/plain": [
       "8073"
      ]
     },
     "execution_count": 51,
     "metadata": {},
     "output_type": "execute_result"
    }
   ],
   "source": [
    "collection.count()"
   ]
  },
  {
   "cell_type": "code",
   "execution_count": 13,
   "metadata": {},
   "outputs": [],
   "source": [
    "# for i, r in enumerate(res):\n",
    "#     res[i] = {**r['res'], **r['scheduler_args'], **r['task'], **r['worker_extra_args']}"
   ]
  },
  {
   "cell_type": "code",
   "execution_count": 54,
   "metadata": {},
   "outputs": [],
   "source": [
    "# for i, r in enumerate(res):\n",
    "#     res[i] = {k:v for k, v in r.items() \n",
    "#               if k not in [\n",
    "#                   'algorithm_param_file', \n",
    "#                   'config_file', \n",
    "#                   'debug', \n",
    "#                   'trace_dir', \n",
    "#                   'write_dir', \n",
    "#                   'task_id',\n",
    "#                   'dbcollection',\n",
    "#                 'dbname',\n",
    "#  'dbpassword',\n",
    "#  'dbport',\n",
    "#  'dburl',\n",
    "#  'dbuser',\n",
    "#               ] }"
   ]
  },
  {
   "cell_type": "code",
   "execution_count": 28,
   "metadata": {},
   "outputs": [],
   "source": [
    "# for i, r in enumerate(res):\n",
    "#     if 'segment_byte_hit_rate' in r:\n",
    "#         res[i]['segment_byte_hit_rate'] = ' '.join(str(i) for i in r['segment_byte_hit_rate'])\n",
    "#     if 'segment_object_hit_rate' in r:\n",
    "#         res[i]['segment_object_hit_rate'] = ' '.join(str(i) for i in r['segment_object_hit_rate'])"
   ]
  },
  {
   "cell_type": "code",
   "execution_count": 32,
   "metadata": {},
   "outputs": [],
   "source": [
    "# for i, r in enumerate(res):\n",
    "#     for k in r:\n",
    "#         res[i][k] = str(r[k])"
   ]
  },
  {
   "cell_type": "code",
   "execution_count": 15,
   "metadata": {},
   "outputs": [],
   "source": [
    "# len(res)"
   ]
  },
  {
   "cell_type": "code",
   "execution_count": 16,
   "metadata": {},
   "outputs": [],
   "source": [
    "collection = db[\"dev\"]"
   ]
  },
  {
   "cell_type": "code",
   "execution_count": 57,
   "metadata": {},
   "outputs": [],
   "source": [
    "# for r in res:\n",
    "#     collection.insert_one(r)"
   ]
  },
  {
   "cell_type": "code",
   "execution_count": 42,
   "metadata": {},
   "outputs": [],
   "source": [
    "# collection = db[scheduler_args[\"dbcollection\"]]"
   ]
  },
  {
   "cell_type": "code",
   "execution_count": 18,
   "metadata": {},
   "outputs": [
    {
     "data": {
      "text/plain": [
       "{'byte_hit_rate': '0.116156',\n",
       " 'object_hit_rate': '0.442588',\n",
       " 'simulation_time': '104.96807833900675',\n",
       " 'cache_size': '102400000000',\n",
       " 'cache_type': 'LFUDA',\n",
       " 'n_warmup': '10000000',\n",
       " 'trace_file': 'msr_proj_1.tr',\n",
       " 'uni_size': '0'}"
      ]
     },
     "execution_count": 18,
     "metadata": {},
     "output_type": "execute_result"
    }
   ],
   "source": [
    "res[0]"
   ]
  }
 ],
 "metadata": {
  "kernelspec": {
   "display_name": "webcachesim",
   "language": "python",
   "name": "webcachesim_env"
  },
  "language_info": {
   "codemirror_mode": {
    "name": "ipython",
    "version": 3
   },
   "file_extension": ".py",
   "mimetype": "text/x-python",
   "name": "python",
   "nbconvert_exporter": "python",
   "pygments_lexer": "ipython3",
   "version": "3.6.7"
  }
 },
 "nbformat": 4,
 "nbformat_minor": 2
}
